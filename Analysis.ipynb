{
 "cells": [
  {
   "cell_type": "code",
   "execution_count": 1,
   "id": "39a6db8f-4c7c-46f8-9473-5ee8c82b1753",
   "metadata": {},
   "outputs": [],
   "source": [
    "import pandas as pd\n",
    "import numpy as np\n",
    "import matplotlib.pyplot as plt"
   ]
  },
  {
   "cell_type": "markdown",
   "id": "a33066fd-9ade-424f-b316-3c197d460864",
   "metadata": {},
   "source": [
    "# Patient"
   ]
  },
  {
   "cell_type": "code",
   "execution_count": 2,
   "id": "eaa449b4-5bb5-4242-a8a1-e2dbaf833e46",
   "metadata": {},
   "outputs": [
    {
     "data": {
      "text/html": [
       "<div>\n",
       "<style scoped>\n",
       "    .dataframe tbody tr th:only-of-type {\n",
       "        vertical-align: middle;\n",
       "    }\n",
       "\n",
       "    .dataframe tbody tr th {\n",
       "        vertical-align: top;\n",
       "    }\n",
       "\n",
       "    .dataframe thead th {\n",
       "        text-align: right;\n",
       "    }\n",
       "</style>\n",
       "<table border=\"1\" class=\"dataframe\">\n",
       "  <thead>\n",
       "    <tr style=\"text-align: right;\">\n",
       "      <th></th>\n",
       "      <th>patient_id</th>\n",
       "      <th>gender</th>\n",
       "      <th>race</th>\n",
       "      <th>date_of_birth</th>\n",
       "      <th>date_of_death</th>\n",
       "    </tr>\n",
       "  </thead>\n",
       "  <tbody>\n",
       "    <tr>\n",
       "      <th>0</th>\n",
       "      <td>SP001100272</td>\n",
       "      <td>Female</td>\n",
       "      <td>Black or African American</td>\n",
       "      <td>1930-07-09</td>\n",
       "      <td>NaT</td>\n",
       "    </tr>\n",
       "    <tr>\n",
       "      <th>1</th>\n",
       "      <td>SP000045681</td>\n",
       "      <td>Female</td>\n",
       "      <td>White</td>\n",
       "      <td>1951-07-02</td>\n",
       "      <td>NaT</td>\n",
       "    </tr>\n",
       "    <tr>\n",
       "      <th>2</th>\n",
       "      <td>SP000417659</td>\n",
       "      <td>Female</td>\n",
       "      <td>White</td>\n",
       "      <td>1965-07-07</td>\n",
       "      <td>NaT</td>\n",
       "    </tr>\n",
       "    <tr>\n",
       "      <th>3</th>\n",
       "      <td>SP000569626</td>\n",
       "      <td>Female</td>\n",
       "      <td>White</td>\n",
       "      <td>1930-07-05</td>\n",
       "      <td>NaT</td>\n",
       "    </tr>\n",
       "    <tr>\n",
       "      <th>4</th>\n",
       "      <td>SP000134430</td>\n",
       "      <td>Female</td>\n",
       "      <td>NaN</td>\n",
       "      <td>1953-07-07</td>\n",
       "      <td>2025-10-21</td>\n",
       "    </tr>\n",
       "  </tbody>\n",
       "</table>\n",
       "</div>"
      ],
      "text/plain": [
       "    patient_id  gender                       race date_of_birth date_of_death\n",
       "0  SP001100272  Female  Black or African American    1930-07-09           NaT\n",
       "1  SP000045681  Female                      White    1951-07-02           NaT\n",
       "2  SP000417659  Female                      White    1965-07-07           NaT\n",
       "3  SP000569626  Female                      White    1930-07-05           NaT\n",
       "4  SP000134430  Female                        NaN    1953-07-07    2025-10-21"
      ]
     },
     "execution_count": 2,
     "metadata": {},
     "output_type": "execute_result"
    }
   ],
   "source": [
    "df1 = pd.read_excel(\"ConcertAI Data Science Interview Dataset.xlsx\", sheet_name=\"Patient\")\n",
    "df1.head()"
   ]
  },
  {
   "cell_type": "code",
   "execution_count": 3,
   "id": "b52f14c3-b8d9-47df-9ec2-6768f4609134",
   "metadata": {},
   "outputs": [
    {
     "data": {
      "text/plain": [
       "(100, 5)"
      ]
     },
     "execution_count": 3,
     "metadata": {},
     "output_type": "execute_result"
    }
   ],
   "source": [
    "df1.shape"
   ]
  },
  {
   "cell_type": "code",
   "execution_count": 4,
   "id": "20b9b3ac-0f09-4793-815b-b925590df1b4",
   "metadata": {},
   "outputs": [
    {
     "data": {
      "text/plain": [
       "94"
      ]
     },
     "execution_count": 4,
     "metadata": {},
     "output_type": "execute_result"
    }
   ],
   "source": [
    "df1.patient_id.nunique()"
   ]
  },
  {
   "cell_type": "code",
   "execution_count": 5,
   "id": "7c89fbbb-1213-4f97-97e6-d04e873cded7",
   "metadata": {},
   "outputs": [
    {
     "data": {
      "text/plain": [
       "patient_id        0\n",
       "gender            0\n",
       "race             22\n",
       "date_of_birth     0\n",
       "date_of_death    77\n",
       "dtype: int64"
      ]
     },
     "execution_count": 5,
     "metadata": {},
     "output_type": "execute_result"
    }
   ],
   "source": [
    "df1.isnull().sum()"
   ]
  },
  {
   "cell_type": "code",
   "execution_count": 6,
   "id": "5651aa61-cd8f-4614-bed2-d53f653c83ae",
   "metadata": {},
   "outputs": [
    {
     "name": "stdout",
     "output_type": "stream",
     "text": [
      "SP000503844    2\n",
      "SP000569626    2\n",
      "SP000547437    2\n",
      "SP000330549    2\n",
      "SP001309952    2\n",
      "SP000474075    2\n",
      "Name: patient_id, dtype: int64\n"
     ]
    }
   ],
   "source": [
    "# Possible 6 duplicate patients\n",
    "patients = df1['patient_id'].value_counts()\n",
    "print(patients.head(6))"
   ]
  },
  {
   "cell_type": "code",
   "execution_count": 7,
   "id": "036d2f1d-45d7-42e6-9d12-71adf7740e75",
   "metadata": {},
   "outputs": [
    {
     "data": {
      "text/html": [
       "<div>\n",
       "<style scoped>\n",
       "    .dataframe tbody tr th:only-of-type {\n",
       "        vertical-align: middle;\n",
       "    }\n",
       "\n",
       "    .dataframe tbody tr th {\n",
       "        vertical-align: top;\n",
       "    }\n",
       "\n",
       "    .dataframe thead th {\n",
       "        text-align: right;\n",
       "    }\n",
       "</style>\n",
       "<table border=\"1\" class=\"dataframe\">\n",
       "  <thead>\n",
       "    <tr style=\"text-align: right;\">\n",
       "      <th></th>\n",
       "      <th>patient_id</th>\n",
       "      <th>gender</th>\n",
       "      <th>race</th>\n",
       "      <th>date_of_birth</th>\n",
       "      <th>date_of_death</th>\n",
       "    </tr>\n",
       "  </thead>\n",
       "  <tbody>\n",
       "    <tr>\n",
       "      <th>73</th>\n",
       "      <td>SP000503844</td>\n",
       "      <td>Female</td>\n",
       "      <td>NaN</td>\n",
       "      <td>1937-07-04</td>\n",
       "      <td>NaT</td>\n",
       "    </tr>\n",
       "    <tr>\n",
       "      <th>74</th>\n",
       "      <td>SP000503844</td>\n",
       "      <td>Female</td>\n",
       "      <td>NaN</td>\n",
       "      <td>1937-07-07</td>\n",
       "      <td>NaT</td>\n",
       "    </tr>\n",
       "  </tbody>\n",
       "</table>\n",
       "</div>"
      ],
      "text/plain": [
       "     patient_id  gender race date_of_birth date_of_death\n",
       "73  SP000503844  Female  NaN    1937-07-04           NaT\n",
       "74  SP000503844  Female  NaN    1937-07-07           NaT"
      ]
     },
     "execution_count": 7,
     "metadata": {},
     "output_type": "execute_result"
    }
   ],
   "source": [
    "df1_SP000503844 = df1[df1['patient_id'] == 'SP000503844']\n",
    "df1_SP000503844.head()"
   ]
  },
  {
   "cell_type": "markdown",
   "id": "76474d16-a739-45fd-b470-d62da0f69e9e",
   "metadata": {},
   "source": [
    "#### ↑ Different DOBs"
   ]
  },
  {
   "cell_type": "code",
   "execution_count": 8,
   "id": "81da9f1e-9c8c-4af5-8a36-82e1eaffd77f",
   "metadata": {},
   "outputs": [
    {
     "data": {
      "text/html": [
       "<div>\n",
       "<style scoped>\n",
       "    .dataframe tbody tr th:only-of-type {\n",
       "        vertical-align: middle;\n",
       "    }\n",
       "\n",
       "    .dataframe tbody tr th {\n",
       "        vertical-align: top;\n",
       "    }\n",
       "\n",
       "    .dataframe thead th {\n",
       "        text-align: right;\n",
       "    }\n",
       "</style>\n",
       "<table border=\"1\" class=\"dataframe\">\n",
       "  <thead>\n",
       "    <tr style=\"text-align: right;\">\n",
       "      <th></th>\n",
       "      <th>patient_id</th>\n",
       "      <th>gender</th>\n",
       "      <th>race</th>\n",
       "      <th>date_of_birth</th>\n",
       "      <th>date_of_death</th>\n",
       "    </tr>\n",
       "  </thead>\n",
       "  <tbody>\n",
       "    <tr>\n",
       "      <th>3</th>\n",
       "      <td>SP000569626</td>\n",
       "      <td>Female</td>\n",
       "      <td>White</td>\n",
       "      <td>1930-07-05</td>\n",
       "      <td>NaT</td>\n",
       "    </tr>\n",
       "    <tr>\n",
       "      <th>55</th>\n",
       "      <td>SP000569626</td>\n",
       "      <td>Female</td>\n",
       "      <td>White</td>\n",
       "      <td>1930-07-06</td>\n",
       "      <td>NaT</td>\n",
       "    </tr>\n",
       "  </tbody>\n",
       "</table>\n",
       "</div>"
      ],
      "text/plain": [
       "     patient_id  gender   race date_of_birth date_of_death\n",
       "3   SP000569626  Female  White    1930-07-05           NaT\n",
       "55  SP000569626  Female  White    1930-07-06           NaT"
      ]
     },
     "execution_count": 8,
     "metadata": {},
     "output_type": "execute_result"
    }
   ],
   "source": [
    "df1_SP000569626 = df1[df1['patient_id'] == 'SP000569626']\n",
    "df1_SP000569626.head()"
   ]
  },
  {
   "cell_type": "markdown",
   "id": "79d59228-a09a-4099-8bdd-2e0a962bdcd2",
   "metadata": {},
   "source": [
    "#### ↑ Different DOBs"
   ]
  },
  {
   "cell_type": "code",
   "execution_count": 9,
   "id": "8bdd64a3-f8e6-4420-83f0-da1496c670ba",
   "metadata": {},
   "outputs": [
    {
     "data": {
      "text/html": [
       "<div>\n",
       "<style scoped>\n",
       "    .dataframe tbody tr th:only-of-type {\n",
       "        vertical-align: middle;\n",
       "    }\n",
       "\n",
       "    .dataframe tbody tr th {\n",
       "        vertical-align: top;\n",
       "    }\n",
       "\n",
       "    .dataframe thead th {\n",
       "        text-align: right;\n",
       "    }\n",
       "</style>\n",
       "<table border=\"1\" class=\"dataframe\">\n",
       "  <thead>\n",
       "    <tr style=\"text-align: right;\">\n",
       "      <th></th>\n",
       "      <th>patient_id</th>\n",
       "      <th>gender</th>\n",
       "      <th>race</th>\n",
       "      <th>date_of_birth</th>\n",
       "      <th>date_of_death</th>\n",
       "    </tr>\n",
       "  </thead>\n",
       "  <tbody>\n",
       "    <tr>\n",
       "      <th>6</th>\n",
       "      <td>SP000547437</td>\n",
       "      <td>Female</td>\n",
       "      <td>Black or African American</td>\n",
       "      <td>1963-07-02</td>\n",
       "      <td>2023-02-01</td>\n",
       "    </tr>\n",
       "    <tr>\n",
       "      <th>20</th>\n",
       "      <td>SP000547437</td>\n",
       "      <td>Female</td>\n",
       "      <td>Black or African American</td>\n",
       "      <td>1963-07-02</td>\n",
       "      <td>2022-02-01</td>\n",
       "    </tr>\n",
       "  </tbody>\n",
       "</table>\n",
       "</div>"
      ],
      "text/plain": [
       "     patient_id  gender                       race date_of_birth date_of_death\n",
       "6   SP000547437  Female  Black or African American    1963-07-02    2023-02-01\n",
       "20  SP000547437  Female  Black or African American    1963-07-02    2022-02-01"
      ]
     },
     "execution_count": 9,
     "metadata": {},
     "output_type": "execute_result"
    }
   ],
   "source": [
    "df1_SP000547437 = df1[df1['patient_id'] == 'SP000547437']\n",
    "df1_SP000547437.head()"
   ]
  },
  {
   "cell_type": "markdown",
   "id": "43ffcc4d-3d5b-4d8a-9630-9d692ce63208",
   "metadata": {},
   "source": [
    "#### ↑ Different DODs"
   ]
  },
  {
   "cell_type": "code",
   "execution_count": 10,
   "id": "fb0be0f7-8965-49f0-b8b5-10c03627f0e0",
   "metadata": {},
   "outputs": [
    {
     "data": {
      "text/html": [
       "<div>\n",
       "<style scoped>\n",
       "    .dataframe tbody tr th:only-of-type {\n",
       "        vertical-align: middle;\n",
       "    }\n",
       "\n",
       "    .dataframe tbody tr th {\n",
       "        vertical-align: top;\n",
       "    }\n",
       "\n",
       "    .dataframe thead th {\n",
       "        text-align: right;\n",
       "    }\n",
       "</style>\n",
       "<table border=\"1\" class=\"dataframe\">\n",
       "  <thead>\n",
       "    <tr style=\"text-align: right;\">\n",
       "      <th></th>\n",
       "      <th>patient_id</th>\n",
       "      <th>gender</th>\n",
       "      <th>race</th>\n",
       "      <th>date_of_birth</th>\n",
       "      <th>date_of_death</th>\n",
       "    </tr>\n",
       "  </thead>\n",
       "  <tbody>\n",
       "    <tr>\n",
       "      <th>58</th>\n",
       "      <td>SP000330549</td>\n",
       "      <td>Female</td>\n",
       "      <td>NaN</td>\n",
       "      <td>1972-07-09</td>\n",
       "      <td>NaT</td>\n",
       "    </tr>\n",
       "    <tr>\n",
       "      <th>78</th>\n",
       "      <td>SP000330549</td>\n",
       "      <td>Female</td>\n",
       "      <td>NaN</td>\n",
       "      <td>1972-07-07</td>\n",
       "      <td>NaT</td>\n",
       "    </tr>\n",
       "  </tbody>\n",
       "</table>\n",
       "</div>"
      ],
      "text/plain": [
       "     patient_id  gender race date_of_birth date_of_death\n",
       "58  SP000330549  Female  NaN    1972-07-09           NaT\n",
       "78  SP000330549  Female  NaN    1972-07-07           NaT"
      ]
     },
     "execution_count": 10,
     "metadata": {},
     "output_type": "execute_result"
    }
   ],
   "source": [
    "df1_SP000330549 = df1[df1['patient_id'] == 'SP000330549']\n",
    "df1_SP000330549.head()"
   ]
  },
  {
   "cell_type": "markdown",
   "id": "9036cf54-f5b5-4318-ad13-b60756ccc003",
   "metadata": {},
   "source": [
    "#### ↑ Different DOBs"
   ]
  },
  {
   "cell_type": "code",
   "execution_count": 11,
   "id": "1f29edba-1d6f-449f-b441-f9c9d491c19c",
   "metadata": {},
   "outputs": [
    {
     "data": {
      "text/html": [
       "<div>\n",
       "<style scoped>\n",
       "    .dataframe tbody tr th:only-of-type {\n",
       "        vertical-align: middle;\n",
       "    }\n",
       "\n",
       "    .dataframe tbody tr th {\n",
       "        vertical-align: top;\n",
       "    }\n",
       "\n",
       "    .dataframe thead th {\n",
       "        text-align: right;\n",
       "    }\n",
       "</style>\n",
       "<table border=\"1\" class=\"dataframe\">\n",
       "  <thead>\n",
       "    <tr style=\"text-align: right;\">\n",
       "      <th></th>\n",
       "      <th>patient_id</th>\n",
       "      <th>gender</th>\n",
       "      <th>race</th>\n",
       "      <th>date_of_birth</th>\n",
       "      <th>date_of_death</th>\n",
       "    </tr>\n",
       "  </thead>\n",
       "  <tbody>\n",
       "    <tr>\n",
       "      <th>11</th>\n",
       "      <td>SP001309952</td>\n",
       "      <td>Female</td>\n",
       "      <td>White</td>\n",
       "      <td>1966-07-09</td>\n",
       "      <td>NaT</td>\n",
       "    </tr>\n",
       "    <tr>\n",
       "      <th>28</th>\n",
       "      <td>SP001309952</td>\n",
       "      <td>Female</td>\n",
       "      <td>White</td>\n",
       "      <td>1966-07-09</td>\n",
       "      <td>NaT</td>\n",
       "    </tr>\n",
       "  </tbody>\n",
       "</table>\n",
       "</div>"
      ],
      "text/plain": [
       "     patient_id  gender   race date_of_birth date_of_death\n",
       "11  SP001309952  Female  White    1966-07-09           NaT\n",
       "28  SP001309952  Female  White    1966-07-09           NaT"
      ]
     },
     "execution_count": 11,
     "metadata": {},
     "output_type": "execute_result"
    }
   ],
   "source": [
    "df1_SP001309952 = df1[df1['patient_id'] == 'SP001309952']\n",
    "df1_SP001309952.head()"
   ]
  },
  {
   "cell_type": "markdown",
   "id": "13e0d7f8-fff0-4991-bded-7f45824536c9",
   "metadata": {},
   "source": [
    "#### ↑ Duplicates -> drop any one"
   ]
  },
  {
   "cell_type": "code",
   "execution_count": 12,
   "id": "9501261d-20b0-4966-9eed-a91e24b463ce",
   "metadata": {},
   "outputs": [
    {
     "data": {
      "text/html": [
       "<div>\n",
       "<style scoped>\n",
       "    .dataframe tbody tr th:only-of-type {\n",
       "        vertical-align: middle;\n",
       "    }\n",
       "\n",
       "    .dataframe tbody tr th {\n",
       "        vertical-align: top;\n",
       "    }\n",
       "\n",
       "    .dataframe thead th {\n",
       "        text-align: right;\n",
       "    }\n",
       "</style>\n",
       "<table border=\"1\" class=\"dataframe\">\n",
       "  <thead>\n",
       "    <tr style=\"text-align: right;\">\n",
       "      <th></th>\n",
       "      <th>patient_id</th>\n",
       "      <th>gender</th>\n",
       "      <th>race</th>\n",
       "      <th>date_of_birth</th>\n",
       "      <th>date_of_death</th>\n",
       "    </tr>\n",
       "  </thead>\n",
       "  <tbody>\n",
       "    <tr>\n",
       "      <th>40</th>\n",
       "      <td>SP000474075</td>\n",
       "      <td>Female</td>\n",
       "      <td>White</td>\n",
       "      <td>1955-07-06</td>\n",
       "      <td>NaT</td>\n",
       "    </tr>\n",
       "    <tr>\n",
       "      <th>91</th>\n",
       "      <td>SP000474075</td>\n",
       "      <td>Female</td>\n",
       "      <td>White</td>\n",
       "      <td>1955-07-08</td>\n",
       "      <td>NaT</td>\n",
       "    </tr>\n",
       "  </tbody>\n",
       "</table>\n",
       "</div>"
      ],
      "text/plain": [
       "     patient_id  gender   race date_of_birth date_of_death\n",
       "40  SP000474075  Female  White    1955-07-06           NaT\n",
       "91  SP000474075  Female  White    1955-07-08           NaT"
      ]
     },
     "execution_count": 12,
     "metadata": {},
     "output_type": "execute_result"
    }
   ],
   "source": [
    "df1_SP000474075 = df1[df1['patient_id'] == 'SP000474075']\n",
    "df1_SP000474075.head()"
   ]
  },
  {
   "cell_type": "markdown",
   "id": "186d92e8-a355-47db-af98-48ff788bbdf3",
   "metadata": {},
   "source": [
    "#### ↑ Different DOBs"
   ]
  },
  {
   "cell_type": "code",
   "execution_count": 13,
   "id": "033ad058-d8d5-4b8d-8c5c-7ad70ad6af7e",
   "metadata": {},
   "outputs": [
    {
     "data": {
      "text/plain": [
       "patient_id               object\n",
       "gender                   object\n",
       "race                     object\n",
       "date_of_birth    datetime64[ns]\n",
       "date_of_death    datetime64[ns]\n",
       "dtype: object"
      ]
     },
     "execution_count": 13,
     "metadata": {},
     "output_type": "execute_result"
    }
   ],
   "source": [
    "df1.dtypes"
   ]
  },
  {
   "cell_type": "markdown",
   "id": "2253df99-f463-45e5-870a-60585deb2c6a",
   "metadata": {},
   "source": [
    "#### Cleaning the data table by keeping the earliest DOB and latest DOD"
   ]
  },
  {
   "cell_type": "code",
   "execution_count": 14,
   "id": "284317da-459b-4c9d-8c66-da3419e4ec2e",
   "metadata": {},
   "outputs": [
    {
     "data": {
      "text/html": [
       "<div>\n",
       "<style scoped>\n",
       "    .dataframe tbody tr th:only-of-type {\n",
       "        vertical-align: middle;\n",
       "    }\n",
       "\n",
       "    .dataframe tbody tr th {\n",
       "        vertical-align: top;\n",
       "    }\n",
       "\n",
       "    .dataframe thead th {\n",
       "        text-align: right;\n",
       "    }\n",
       "</style>\n",
       "<table border=\"1\" class=\"dataframe\">\n",
       "  <thead>\n",
       "    <tr style=\"text-align: right;\">\n",
       "      <th></th>\n",
       "      <th>patient_id</th>\n",
       "      <th>gender</th>\n",
       "      <th>race</th>\n",
       "      <th>date_of_birth</th>\n",
       "      <th>date_of_death</th>\n",
       "    </tr>\n",
       "  </thead>\n",
       "  <tbody>\n",
       "    <tr>\n",
       "      <th>0</th>\n",
       "      <td>SP000035853</td>\n",
       "      <td>Female</td>\n",
       "      <td>Other Race</td>\n",
       "      <td>1950-07-06</td>\n",
       "      <td>NaT</td>\n",
       "    </tr>\n",
       "    <tr>\n",
       "      <th>1</th>\n",
       "      <td>SP000045681</td>\n",
       "      <td>Female</td>\n",
       "      <td>White</td>\n",
       "      <td>1951-07-02</td>\n",
       "      <td>NaT</td>\n",
       "    </tr>\n",
       "    <tr>\n",
       "      <th>2</th>\n",
       "      <td>SP000117336</td>\n",
       "      <td>Female</td>\n",
       "      <td>Black or African American</td>\n",
       "      <td>1951-07-06</td>\n",
       "      <td>2012-07-06</td>\n",
       "    </tr>\n",
       "    <tr>\n",
       "      <th>3</th>\n",
       "      <td>SP000123715</td>\n",
       "      <td>Female</td>\n",
       "      <td>White</td>\n",
       "      <td>1941-07-08</td>\n",
       "      <td>NaT</td>\n",
       "    </tr>\n",
       "    <tr>\n",
       "      <th>4</th>\n",
       "      <td>SP000129668</td>\n",
       "      <td>Female</td>\n",
       "      <td>White</td>\n",
       "      <td>1970-07-05</td>\n",
       "      <td>NaT</td>\n",
       "    </tr>\n",
       "  </tbody>\n",
       "</table>\n",
       "</div>"
      ],
      "text/plain": [
       "    patient_id  gender                       race date_of_birth date_of_death\n",
       "0  SP000035853  Female                 Other Race    1950-07-06           NaT\n",
       "1  SP000045681  Female                      White    1951-07-02           NaT\n",
       "2  SP000117336  Female  Black or African American    1951-07-06    2012-07-06\n",
       "3  SP000123715  Female                      White    1941-07-08           NaT\n",
       "4  SP000129668  Female                      White    1970-07-05           NaT"
      ]
     },
     "execution_count": 14,
     "metadata": {},
     "output_type": "execute_result"
    }
   ],
   "source": [
    "df1_clean = (\n",
    "    df1.groupby(\"patient_id\", as_index=False)\n",
    "    .agg({\n",
    "          \"gender\": \"first\",        # keep first instance\n",
    "          \"race\": \"first\",          # keep first instance\n",
    "          \"date_of_birth\": \"min\",   # earliest DOB\n",
    "          \"date_of_death\": \"max\"    # latest DOD\n",
    "      })\n",
    ")\n",
    "df1_clean.head()"
   ]
  },
  {
   "cell_type": "code",
   "execution_count": 15,
   "id": "52bf33de-fc96-4ded-a71c-4e1b550cc952",
   "metadata": {},
   "outputs": [
    {
     "data": {
      "text/plain": [
       "(94, 5)"
      ]
     },
     "execution_count": 15,
     "metadata": {},
     "output_type": "execute_result"
    }
   ],
   "source": [
    "df1_clean.shape"
   ]
  },
  {
   "cell_type": "code",
   "execution_count": 16,
   "id": "45fba0b4-5074-4ad9-a689-9e757555e07c",
   "metadata": {},
   "outputs": [
    {
     "data": {
      "text/plain": [
       "94"
      ]
     },
     "execution_count": 16,
     "metadata": {},
     "output_type": "execute_result"
    }
   ],
   "source": [
    "df1_clean.patient_id.nunique()"
   ]
  },
  {
   "cell_type": "code",
   "execution_count": 17,
   "id": "7576c63e-c081-4b48-b249-44439a6171c9",
   "metadata": {},
   "outputs": [
    {
     "data": {
      "text/html": [
       "<div>\n",
       "<style scoped>\n",
       "    .dataframe tbody tr th:only-of-type {\n",
       "        vertical-align: middle;\n",
       "    }\n",
       "\n",
       "    .dataframe tbody tr th {\n",
       "        vertical-align: top;\n",
       "    }\n",
       "\n",
       "    .dataframe thead th {\n",
       "        text-align: right;\n",
       "    }\n",
       "</style>\n",
       "<table border=\"1\" class=\"dataframe\">\n",
       "  <thead>\n",
       "    <tr style=\"text-align: right;\">\n",
       "      <th></th>\n",
       "      <th>patient_id</th>\n",
       "      <th>gender</th>\n",
       "      <th>race</th>\n",
       "      <th>date_of_birth</th>\n",
       "      <th>date_of_death</th>\n",
       "    </tr>\n",
       "  </thead>\n",
       "  <tbody>\n",
       "    <tr>\n",
       "      <th>76</th>\n",
       "      <td>SP001309952</td>\n",
       "      <td>Female</td>\n",
       "      <td>White</td>\n",
       "      <td>1966-07-09</td>\n",
       "      <td>NaT</td>\n",
       "    </tr>\n",
       "  </tbody>\n",
       "</table>\n",
       "</div>"
      ],
      "text/plain": [
       "     patient_id  gender   race date_of_birth date_of_death\n",
       "76  SP001309952  Female  White    1966-07-09           NaT"
      ]
     },
     "execution_count": 17,
     "metadata": {},
     "output_type": "execute_result"
    }
   ],
   "source": [
    "# Checking for edge case where patient's DOB was the same\n",
    "\n",
    "df1_SP001309952 = df1_clean[df1_clean['patient_id'] == 'SP001309952']\n",
    "df1_SP001309952.head()"
   ]
  },
  {
   "cell_type": "code",
   "execution_count": 18,
   "id": "10f88f34-68fb-4109-b046-df53e3622195",
   "metadata": {},
   "outputs": [
    {
     "data": {
      "text/html": [
       "<div>\n",
       "<style scoped>\n",
       "    .dataframe tbody tr th:only-of-type {\n",
       "        vertical-align: middle;\n",
       "    }\n",
       "\n",
       "    .dataframe tbody tr th {\n",
       "        vertical-align: top;\n",
       "    }\n",
       "\n",
       "    .dataframe thead th {\n",
       "        text-align: right;\n",
       "    }\n",
       "</style>\n",
       "<table border=\"1\" class=\"dataframe\">\n",
       "  <thead>\n",
       "    <tr style=\"text-align: right;\">\n",
       "      <th></th>\n",
       "      <th>patient_id</th>\n",
       "      <th>gender</th>\n",
       "      <th>race</th>\n",
       "      <th>date_of_birth</th>\n",
       "      <th>date_of_death</th>\n",
       "      <th>age_years</th>\n",
       "    </tr>\n",
       "  </thead>\n",
       "  <tbody>\n",
       "    <tr>\n",
       "      <th>0</th>\n",
       "      <td>SP000035853</td>\n",
       "      <td>Female</td>\n",
       "      <td>Other Race</td>\n",
       "      <td>1950-07-06</td>\n",
       "      <td>NaT</td>\n",
       "      <td>75</td>\n",
       "    </tr>\n",
       "    <tr>\n",
       "      <th>1</th>\n",
       "      <td>SP000045681</td>\n",
       "      <td>Female</td>\n",
       "      <td>White</td>\n",
       "      <td>1951-07-02</td>\n",
       "      <td>NaT</td>\n",
       "      <td>74</td>\n",
       "    </tr>\n",
       "    <tr>\n",
       "      <th>2</th>\n",
       "      <td>SP000117336</td>\n",
       "      <td>Female</td>\n",
       "      <td>Black or African American</td>\n",
       "      <td>1951-07-06</td>\n",
       "      <td>2012-07-06</td>\n",
       "      <td>61</td>\n",
       "    </tr>\n",
       "    <tr>\n",
       "      <th>3</th>\n",
       "      <td>SP000123715</td>\n",
       "      <td>Female</td>\n",
       "      <td>White</td>\n",
       "      <td>1941-07-08</td>\n",
       "      <td>NaT</td>\n",
       "      <td>84</td>\n",
       "    </tr>\n",
       "    <tr>\n",
       "      <th>4</th>\n",
       "      <td>SP000129668</td>\n",
       "      <td>Female</td>\n",
       "      <td>White</td>\n",
       "      <td>1970-07-05</td>\n",
       "      <td>NaT</td>\n",
       "      <td>55</td>\n",
       "    </tr>\n",
       "  </tbody>\n",
       "</table>\n",
       "</div>"
      ],
      "text/plain": [
       "    patient_id  gender                       race date_of_birth date_of_death  \\\n",
       "0  SP000035853  Female                 Other Race    1950-07-06           NaT   \n",
       "1  SP000045681  Female                      White    1951-07-02           NaT   \n",
       "2  SP000117336  Female  Black or African American    1951-07-06    2012-07-06   \n",
       "3  SP000123715  Female                      White    1941-07-08           NaT   \n",
       "4  SP000129668  Female                      White    1970-07-05           NaT   \n",
       "\n",
       "   age_years  \n",
       "0         75  \n",
       "1         74  \n",
       "2         61  \n",
       "3         84  \n",
       "4         55  "
      ]
     },
     "execution_count": 18,
     "metadata": {},
     "output_type": "execute_result"
    }
   ],
   "source": [
    "#### Calculating Age - assumption -> Missing DOD signifies patient still alive\n",
    "\n",
    "# reference date = DOD if present, else today\n",
    "today = pd.Timestamp.today().normalize()\n",
    "ref_date = df1_clean[\"date_of_death\"].fillna(today)\n",
    "dob = df1_clean[\"date_of_birth\"]\n",
    "\n",
    "# age in whole years, corrected around birthdays\n",
    "has_had_bday = (\n",
    "    (ref_date.dt.month > dob.dt.month) |\n",
    "    ((ref_date.dt.month == dob.dt.month) & (ref_date.dt.day >= dob.dt.day))\n",
    ")\n",
    "df1_clean[\"age_years\"] = (ref_date.dt.year - dob.dt.year) - (~has_had_bday).astype(int)\n",
    "df1_clean.head()"
   ]
  },
  {
   "cell_type": "markdown",
   "id": "90269c29-ae5b-4e05-8525-4b10d4f6d4b9",
   "metadata": {},
   "source": [
    "# Diagnosis"
   ]
  },
  {
   "cell_type": "code",
   "execution_count": 19,
   "id": "0ab4390a-6521-4cf7-b0a2-2bfbceaff9bc",
   "metadata": {},
   "outputs": [
    {
     "data": {
      "text/html": [
       "<div>\n",
       "<style scoped>\n",
       "    .dataframe tbody tr th:only-of-type {\n",
       "        vertical-align: middle;\n",
       "    }\n",
       "\n",
       "    .dataframe tbody tr th {\n",
       "        vertical-align: top;\n",
       "    }\n",
       "\n",
       "    .dataframe thead th {\n",
       "        text-align: right;\n",
       "    }\n",
       "</style>\n",
       "<table border=\"1\" class=\"dataframe\">\n",
       "  <thead>\n",
       "    <tr style=\"text-align: right;\">\n",
       "      <th></th>\n",
       "      <th>patient_id</th>\n",
       "      <th>diagnosis_date</th>\n",
       "      <th>diagnosis_code</th>\n",
       "      <th>diagnosis_name</th>\n",
       "      <th>diagnosis_system</th>\n",
       "    </tr>\n",
       "  </thead>\n",
       "  <tbody>\n",
       "    <tr>\n",
       "      <th>0</th>\n",
       "      <td>SP001411515</td>\n",
       "      <td>2015-01-22 03:59:14</td>\n",
       "      <td>Z87.81</td>\n",
       "      <td>Personal History Of  Traumatic Fracture</td>\n",
       "      <td>ICD10CM</td>\n",
       "    </tr>\n",
       "    <tr>\n",
       "      <th>1</th>\n",
       "      <td>SP000879678</td>\n",
       "      <td>2010-10-08 12:00:00</td>\n",
       "      <td>S62.339A</td>\n",
       "      <td>Fx Of Neck Of Unsp Metacarpal Bone, Init For C...</td>\n",
       "      <td>ICD10CM</td>\n",
       "    </tr>\n",
       "    <tr>\n",
       "      <th>2</th>\n",
       "      <td>SP000730754</td>\n",
       "      <td>2015-12-25 00:00:00</td>\n",
       "      <td>D53.9</td>\n",
       "      <td>Nutritional Anemia, Unspecified</td>\n",
       "      <td>ICD10CM</td>\n",
       "    </tr>\n",
       "    <tr>\n",
       "      <th>3</th>\n",
       "      <td>SP000417659</td>\n",
       "      <td>2015-06-30 12:00:00</td>\n",
       "      <td>E78.5</td>\n",
       "      <td>Hyperlipidemia, Unspecified</td>\n",
       "      <td>ICD10CM</td>\n",
       "    </tr>\n",
       "    <tr>\n",
       "      <th>4</th>\n",
       "      <td>SP000730754</td>\n",
       "      <td>2019-07-23 00:00:00</td>\n",
       "      <td>H25.13</td>\n",
       "      <td>Age-related Nuclear Cataract, Bilateral</td>\n",
       "      <td>ICD10CM</td>\n",
       "    </tr>\n",
       "  </tbody>\n",
       "</table>\n",
       "</div>"
      ],
      "text/plain": [
       "    patient_id       diagnosis_date diagnosis_code  \\\n",
       "0  SP001411515  2015-01-22 03:59:14         Z87.81   \n",
       "1  SP000879678  2010-10-08 12:00:00       S62.339A   \n",
       "2  SP000730754  2015-12-25 00:00:00          D53.9   \n",
       "3  SP000417659  2015-06-30 12:00:00          E78.5   \n",
       "4  SP000730754  2019-07-23 00:00:00         H25.13   \n",
       "\n",
       "                                      diagnosis_name diagnosis_system  \n",
       "0            Personal History Of  Traumatic Fracture          ICD10CM  \n",
       "1  Fx Of Neck Of Unsp Metacarpal Bone, Init For C...          ICD10CM  \n",
       "2                    Nutritional Anemia, Unspecified          ICD10CM  \n",
       "3                        Hyperlipidemia, Unspecified          ICD10CM  \n",
       "4            Age-related Nuclear Cataract, Bilateral          ICD10CM  "
      ]
     },
     "execution_count": 19,
     "metadata": {},
     "output_type": "execute_result"
    }
   ],
   "source": [
    "df2 = pd.read_excel(\"ConcertAI Data Science Interview Dataset.xlsx\", sheet_name=\"Diagnosis\")\n",
    "df2.head()"
   ]
  },
  {
   "cell_type": "code",
   "execution_count": 20,
   "id": "d39826e6-86c1-4b2d-a17b-4a5346b40791",
   "metadata": {},
   "outputs": [
    {
     "data": {
      "text/plain": [
       "(22484, 5)"
      ]
     },
     "execution_count": 20,
     "metadata": {},
     "output_type": "execute_result"
    }
   ],
   "source": [
    "df2.shape"
   ]
  },
  {
   "cell_type": "code",
   "execution_count": 21,
   "id": "59714df2-12c1-425f-b89a-1e6ecb9d5f2d",
   "metadata": {},
   "outputs": [
    {
     "data": {
      "text/plain": [
       "96"
      ]
     },
     "execution_count": 21,
     "metadata": {},
     "output_type": "execute_result"
    }
   ],
   "source": [
    "df2.patient_id.nunique()"
   ]
  },
  {
   "cell_type": "markdown",
   "id": "a20de2e0-04ad-4f66-a54c-9d115d4ed13c",
   "metadata": {},
   "source": [
    "#### 2 extra patients - remove them"
   ]
  },
  {
   "cell_type": "code",
   "execution_count": 22,
   "id": "9827cc5e-cd89-4df3-884b-de2f5b0f9c46",
   "metadata": {},
   "outputs": [
    {
     "name": "stdout",
     "output_type": "stream",
     "text": [
      "Extra patient IDs in Diagnosis: {'SP001550464', 'SP000730565'}\n"
     ]
    }
   ],
   "source": [
    "id_patient = set(df1_clean[\"patient_id\"].unique())\n",
    "id_diagnosis = set(df2[\"patient_id\"].unique())\n",
    "\n",
    "# Find extra patients in df2\n",
    "extra_ids = id_diagnosis - id_patient\n",
    "print(\"Extra patient IDs in Diagnosis:\", extra_ids)"
   ]
  },
  {
   "cell_type": "code",
   "execution_count": 23,
   "id": "03e074d7-b62f-43a1-bf14-b4bb3f45b021",
   "metadata": {},
   "outputs": [
    {
     "data": {
      "text/plain": [
       "94"
      ]
     },
     "execution_count": 23,
     "metadata": {},
     "output_type": "execute_result"
    }
   ],
   "source": [
    "# Remove these from Diagnosis sheet - since we have demographic info only for pateints in 'Patient' sheet \n",
    "# Alternatively we can leave as is, as when we join with 'Patients' sheet they will be removed automatically.\n",
    "\n",
    "df2_cleaned = df2[~df2[\"patient_id\"].isin(extra_ids)]\n",
    "df2_cleaned.patient_id.nunique()"
   ]
  },
  {
   "cell_type": "code",
   "execution_count": 24,
   "id": "9a000a63-f893-47ec-8580-9826913f69c3",
   "metadata": {},
   "outputs": [
    {
     "data": {
      "text/plain": [
       "array(['ICD10CM', nan, 'ICD9CM'], dtype=object)"
      ]
     },
     "execution_count": 24,
     "metadata": {},
     "output_type": "execute_result"
    }
   ],
   "source": [
    "df2_cleaned.diagnosis_system.unique()"
   ]
  },
  {
   "cell_type": "code",
   "execution_count": 25,
   "id": "a18887b6-029b-4079-9de4-49be5af141f0",
   "metadata": {},
   "outputs": [
    {
     "data": {
      "text/plain": [
       "1413"
      ]
     },
     "execution_count": 25,
     "metadata": {},
     "output_type": "execute_result"
    }
   ],
   "source": [
    "df2_cleaned.diagnosis_code.nunique()"
   ]
  },
  {
   "cell_type": "code",
   "execution_count": 26,
   "id": "fd0192a8-153f-4ef7-b6c5-effa0cfc0059",
   "metadata": {},
   "outputs": [
    {
     "data": {
      "text/plain": [
       "patient_id          object\n",
       "diagnosis_date      object\n",
       "diagnosis_code      object\n",
       "diagnosis_name      object\n",
       "diagnosis_system    object\n",
       "dtype: object"
      ]
     },
     "execution_count": 26,
     "metadata": {},
     "output_type": "execute_result"
    }
   ],
   "source": [
    "df2_cleaned.dtypes"
   ]
  },
  {
   "cell_type": "code",
   "execution_count": 27,
   "id": "ebd9df94-76f8-4310-a0a3-8edb6924e4db",
   "metadata": {},
   "outputs": [
    {
     "data": {
      "text/plain": [
       "(21706, 5)"
      ]
     },
     "execution_count": 27,
     "metadata": {},
     "output_type": "execute_result"
    }
   ],
   "source": [
    "df2_cleaned.shape"
   ]
  },
  {
   "cell_type": "code",
   "execution_count": 28,
   "id": "1fa07453-19af-41bf-9c3a-cddaccab63b0",
   "metadata": {},
   "outputs": [
    {
     "data": {
      "text/plain": [
       "patient_id            0\n",
       "diagnosis_date        0\n",
       "diagnosis_code      356\n",
       "diagnosis_name        1\n",
       "diagnosis_system    356\n",
       "dtype: int64"
      ]
     },
     "execution_count": 28,
     "metadata": {},
     "output_type": "execute_result"
    }
   ],
   "source": [
    "df2_cleaned.isnull().sum()"
   ]
  },
  {
   "cell_type": "code",
   "execution_count": 29,
   "id": "56ca7921-db16-481b-959f-75dd54c8ff69",
   "metadata": {},
   "outputs": [
    {
     "name": "stdout",
     "output_type": "stream",
     "text": [
      "Percent empty values: 1.64\n"
     ]
    }
   ],
   "source": [
    "# %age empty values\n",
    "\n",
    "empty_values = (df2_cleaned['diagnosis_code'].isnull().sum()/df2_cleaned.shape[0])*100\n",
    "print(f\"Percent empty values: {empty_values:.2f}\")"
   ]
  },
  {
   "cell_type": "markdown",
   "id": "84e4f001-b699-4728-8bea-8538e6f094cd",
   "metadata": {},
   "source": [
    "#### Assumption -> empty values for diagnosis_code are not leading with C50. or Z85. since small fraction of empty values\n",
    "#### Assumption -> empty values for diagnosis_system are not ICD10 since small fraction of empty values"
   ]
  },
  {
   "cell_type": "code",
   "execution_count": 30,
   "id": "1e0d3d38-2a16-4b09-a55c-39cbf3c9eef1",
   "metadata": {},
   "outputs": [
    {
     "name": "stderr",
     "output_type": "stream",
     "text": [
      "C:\\Users\\ankit\\AppData\\Local\\Temp\\ipykernel_11944\\3316587214.py:4: UserWarning: This pattern is interpreted as a regular expression, and has match groups. To actually get the groups, use str.extract.\n",
      "  df2_cleaned[\"diagnosis_code\"].str.contains(r\"(C50|Z85)\", na=False)\n"
     ]
    },
    {
     "data": {
      "text/html": [
       "<div>\n",
       "<style scoped>\n",
       "    .dataframe tbody tr th:only-of-type {\n",
       "        vertical-align: middle;\n",
       "    }\n",
       "\n",
       "    .dataframe tbody tr th {\n",
       "        vertical-align: top;\n",
       "    }\n",
       "\n",
       "    .dataframe thead th {\n",
       "        text-align: right;\n",
       "    }\n",
       "</style>\n",
       "<table border=\"1\" class=\"dataframe\">\n",
       "  <thead>\n",
       "    <tr style=\"text-align: right;\">\n",
       "      <th></th>\n",
       "      <th>patient_id</th>\n",
       "      <th>diagnosis_date</th>\n",
       "      <th>diagnosis_code</th>\n",
       "      <th>diagnosis_name</th>\n",
       "      <th>diagnosis_system</th>\n",
       "    </tr>\n",
       "  </thead>\n",
       "  <tbody>\n",
       "    <tr>\n",
       "      <th>7</th>\n",
       "      <td>SP001476419</td>\n",
       "      <td>2010-05-09 12:00:00</td>\n",
       "      <td>C50.919</td>\n",
       "      <td>Malignant Neoplasm Of Unspecified Site Of Unsp...</td>\n",
       "      <td>ICD10CM</td>\n",
       "    </tr>\n",
       "    <tr>\n",
       "      <th>9</th>\n",
       "      <td>SP000490408</td>\n",
       "      <td>2019-06-19 00:00:00</td>\n",
       "      <td>C50.411</td>\n",
       "      <td>Malignant Neoplasm Of Upper-outer Quadrant Of ...</td>\n",
       "      <td>ICD10CM</td>\n",
       "    </tr>\n",
       "    <tr>\n",
       "      <th>12</th>\n",
       "      <td>SP001336335</td>\n",
       "      <td>2017-03-23 12:00:00</td>\n",
       "      <td>C50.912</td>\n",
       "      <td>Malignant Neoplasm Of Unspecified Site Of Left...</td>\n",
       "      <td>ICD10CM</td>\n",
       "    </tr>\n",
       "    <tr>\n",
       "      <th>18</th>\n",
       "      <td>SP001142266</td>\n",
       "      <td>2019-06-19 10:03:02</td>\n",
       "      <td>C50.412</td>\n",
       "      <td>Malignant Neoplasm Of Upper-outer Quadrant Of ...</td>\n",
       "      <td>ICD10CM</td>\n",
       "    </tr>\n",
       "    <tr>\n",
       "      <th>26</th>\n",
       "      <td>SP000503844</td>\n",
       "      <td>2017-05-06 12:00:00</td>\n",
       "      <td>C50.919</td>\n",
       "      <td>Malignant Neoplasm Of Unspecified Site Of Unsp...</td>\n",
       "      <td>ICD10CM</td>\n",
       "    </tr>\n",
       "  </tbody>\n",
       "</table>\n",
       "</div>"
      ],
      "text/plain": [
       "     patient_id       diagnosis_date diagnosis_code  \\\n",
       "7   SP001476419  2010-05-09 12:00:00        C50.919   \n",
       "9   SP000490408  2019-06-19 00:00:00        C50.411   \n",
       "12  SP001336335  2017-03-23 12:00:00        C50.912   \n",
       "18  SP001142266  2019-06-19 10:03:02        C50.412   \n",
       "26  SP000503844  2017-05-06 12:00:00        C50.919   \n",
       "\n",
       "                                       diagnosis_name diagnosis_system  \n",
       "7   Malignant Neoplasm Of Unspecified Site Of Unsp...          ICD10CM  \n",
       "9   Malignant Neoplasm Of Upper-outer Quadrant Of ...          ICD10CM  \n",
       "12  Malignant Neoplasm Of Unspecified Site Of Left...          ICD10CM  \n",
       "18  Malignant Neoplasm Of Upper-outer Quadrant Of ...          ICD10CM  \n",
       "26  Malignant Neoplasm Of Unspecified Site Of Unsp...          ICD10CM  "
      ]
     },
     "execution_count": 30,
     "metadata": {},
     "output_type": "execute_result"
    }
   ],
   "source": [
    "# Filter condition\n",
    "mask = (\n",
    "    df2_cleaned[\"diagnosis_system\"].str.contains(\"ICD10\", na=False) &\n",
    "    df2_cleaned[\"diagnosis_code\"].str.contains(r\"(C50|Z85)\", na=False)\n",
    ")\n",
    "\n",
    "filtered_df2 = df2_cleaned[mask]\n",
    "filtered_df2.head()"
   ]
  },
  {
   "cell_type": "markdown",
   "id": "41a6a26a-13c2-4075-aa5c-dd148f88437b",
   "metadata": {},
   "source": [
    "#### We see similar 'diagnosis_code', 'diagnosis_name' & 'diagnosis_system' for multiple dates. I decided to keep all the entries since a patient diagnosed with ICD10 with a leading code C50. or Z85. can have this diagnosis on any date and we don't want to miss any of this diagnosis by keeping latest entry or removing duplicates based on 'diagnosis_name'. Additionally, want to retain the longitudinal history of the patients since the question asks: 'How many patients ***have been*** diagnosed with an ICD10 diagnosis code leading with C50. or Z85.?'."
   ]
  },
  {
   "cell_type": "code",
   "execution_count": 31,
   "id": "ab1d6d7b-a577-4245-9c84-e0cbdef6d8f4",
   "metadata": {},
   "outputs": [
    {
     "data": {
      "text/plain": [
       "array(['ICD10CM'], dtype=object)"
      ]
     },
     "execution_count": 31,
     "metadata": {},
     "output_type": "execute_result"
    }
   ],
   "source": [
    "filtered_df2.diagnosis_system.unique()"
   ]
  },
  {
   "cell_type": "code",
   "execution_count": 32,
   "id": "dfa6ed84",
   "metadata": {},
   "outputs": [
    {
     "data": {
      "text/plain": [
       "array(['C50.919', 'C50.411', 'C50.912', 'C50.412', 'C50.911', 'Z85.3',\n",
       "       'C50', 'C50.419', 'C50.111', 'C50.819', 'C50.011', 'C50.212',\n",
       "       'C50.812', 'C50.211', 'C50.511', 'C50.321', 'C50.012', 'C50.319',\n",
       "       'Z85.72', 'Z85.79', 'C50.119', 'Z85.828', 'C50.921', 'C50.811',\n",
       "       'C50.019', 'Z85.71', 'Z85.830', 'C50.112', 'Z85.820', 'C50.219',\n",
       "       'Z85.038', 'C50.519', 'Z85.00', 'C50.312', 'C50.512', 'Z85.9'],\n",
       "      dtype=object)"
      ]
     },
     "execution_count": 32,
     "metadata": {},
     "output_type": "execute_result"
    }
   ],
   "source": [
    "filtered_df2.diagnosis_code.unique()"
   ]
  },
  {
   "cell_type": "code",
   "execution_count": 33,
   "id": "4f8fac4c-b9e4-4ce2-bf42-ca0012504395",
   "metadata": {},
   "outputs": [
    {
     "data": {
      "image/png": "[encoded data removed]",
      "text/plain": [
       "<Figure size 1200x600 with 1 Axes>"
      ]
     },
     "metadata": {},
     "output_type": "display_data"
    }
   ],
   "source": [
    "fig, axes = plt.subplots(figsize=(12, 6))\n",
    "\n",
    "# 'diagnosis_code' counts\n",
    "counts = filtered_df2[\"diagnosis_code\"].value_counts(dropna=False)\n",
    "total = counts.sum()\n",
    "\n",
    "# Plot\n",
    "counts.plot(kind=\"bar\", ax=axes)\n",
    "axes.set_title(\"Distribution of Diagnosis Code\")\n",
    "axes.set_xlabel(\"Diagnosis Code\")\n",
    "axes.set_ylabel(\"Count\")\n",
    "axes.tick_params(axis=\"x\", rotation=45)\n",
    "\n",
    "# Add labels\n",
    "for p in axes.patches:\n",
    "    value = p.get_height()\n",
    "    percent = 100 * value / total\n",
    "    axes.annotate(\n",
    "        f\"{percent:.1f}%\",\n",
    "        (p.get_x() + p.get_width() / 2., value),\n",
    "        ha='center', va='bottom'\n",
    "    )\n",
    "plt.tight_layout()\n",
    "plt.show()"
   ]
  },
  {
   "cell_type": "code",
   "execution_count": 34,
   "id": "f823752b-5ddd-4e19-b577-3bd6a153a4f0",
   "metadata": {},
   "outputs": [
    {
     "data": {
      "text/plain": [
       "(4621, 5)"
      ]
     },
     "execution_count": 34,
     "metadata": {},
     "output_type": "execute_result"
    }
   ],
   "source": [
    "filtered_df2.shape"
   ]
  },
  {
   "cell_type": "code",
   "execution_count": 35,
   "id": "042d84b2-7346-40b5-a871-e56ac62f8999",
   "metadata": {},
   "outputs": [
    {
     "name": "stdout",
     "output_type": "stream",
     "text": [
      "No. of patients that have been diagnosed with an ICD10 diagnosis code leading with C50. or Z85.: 94\n"
     ]
    }
   ],
   "source": [
    "# First Question's answer\n",
    "print(f\"No. of patients that have been diagnosed with an ICD10 diagnosis code leading with C50. or Z85.: {filtered_df2.patient_id.nunique()}\")"
   ]
  },
  {
   "cell_type": "markdown",
   "id": "4fb6426e-3137-4e21-ae9a-4f9d716edce2",
   "metadata": {},
   "source": [
    "### Join Patient data table and Diagnosis data table to get demographics"
   ]
  },
  {
   "cell_type": "code",
   "execution_count": 36,
   "id": "4c52be37-035c-4cd5-bc60-e7fd0577514c",
   "metadata": {},
   "outputs": [
    {
     "data": {
      "text/html": [
       "<div>\n",
       "<style scoped>\n",
       "    .dataframe tbody tr th:only-of-type {\n",
       "        vertical-align: middle;\n",
       "    }\n",
       "\n",
       "    .dataframe tbody tr th {\n",
       "        vertical-align: top;\n",
       "    }\n",
       "\n",
       "    .dataframe thead th {\n",
       "        text-align: right;\n",
       "    }\n",
       "</style>\n",
       "<table border=\"1\" class=\"dataframe\">\n",
       "  <thead>\n",
       "    <tr style=\"text-align: right;\">\n",
       "      <th></th>\n",
       "      <th>patient_id</th>\n",
       "      <th>gender</th>\n",
       "      <th>race</th>\n",
       "      <th>date_of_birth</th>\n",
       "      <th>date_of_death</th>\n",
       "      <th>age_years</th>\n",
       "      <th>diagnosis_date</th>\n",
       "      <th>diagnosis_code</th>\n",
       "      <th>diagnosis_name</th>\n",
       "      <th>diagnosis_system</th>\n",
       "    </tr>\n",
       "  </thead>\n",
       "  <tbody>\n",
       "    <tr>\n",
       "      <th>0</th>\n",
       "      <td>SP000035853</td>\n",
       "      <td>Female</td>\n",
       "      <td>Other Race</td>\n",
       "      <td>1950-07-06</td>\n",
       "      <td>NaT</td>\n",
       "      <td>75</td>\n",
       "      <td>2015-02-01 12:00:00</td>\n",
       "      <td>C50.911</td>\n",
       "      <td>Malignant Neoplasm Of Unspecified Site Of Righ...</td>\n",
       "      <td>ICD10CM</td>\n",
       "    </tr>\n",
       "    <tr>\n",
       "      <th>1</th>\n",
       "      <td>SP000035853</td>\n",
       "      <td>Female</td>\n",
       "      <td>Other Race</td>\n",
       "      <td>1950-07-06</td>\n",
       "      <td>NaT</td>\n",
       "      <td>75</td>\n",
       "      <td>2014-12-30 12:00:00</td>\n",
       "      <td>C50.911</td>\n",
       "      <td>Malignant Neoplasm Of Unspecified Site Of Righ...</td>\n",
       "      <td>ICD10CM</td>\n",
       "    </tr>\n",
       "    <tr>\n",
       "      <th>2</th>\n",
       "      <td>SP000035853</td>\n",
       "      <td>Female</td>\n",
       "      <td>Other Race</td>\n",
       "      <td>1950-07-06</td>\n",
       "      <td>NaT</td>\n",
       "      <td>75</td>\n",
       "      <td>2016-12-28 12:00:00</td>\n",
       "      <td>Z85.3</td>\n",
       "      <td>Personal History Of Malignant Neoplasm Of Breast</td>\n",
       "      <td>ICD10CM</td>\n",
       "    </tr>\n",
       "    <tr>\n",
       "      <th>3</th>\n",
       "      <td>SP000035853</td>\n",
       "      <td>Female</td>\n",
       "      <td>Other Race</td>\n",
       "      <td>1950-07-06</td>\n",
       "      <td>NaT</td>\n",
       "      <td>75</td>\n",
       "      <td>2015-03-21 12:00:00</td>\n",
       "      <td>C50.919</td>\n",
       "      <td>Malignant Neoplasm Of Unspecified Site Of Unsp...</td>\n",
       "      <td>ICD10CM</td>\n",
       "    </tr>\n",
       "    <tr>\n",
       "      <th>4</th>\n",
       "      <td>SP000035853</td>\n",
       "      <td>Female</td>\n",
       "      <td>Other Race</td>\n",
       "      <td>1950-07-06</td>\n",
       "      <td>NaT</td>\n",
       "      <td>75</td>\n",
       "      <td>2017-10-09 12:00:00</td>\n",
       "      <td>Z85.3</td>\n",
       "      <td>Personal History Of Malignant Neoplasm Of Breast</td>\n",
       "      <td>ICD10CM</td>\n",
       "    </tr>\n",
       "  </tbody>\n",
       "</table>\n",
       "</div>"
      ],
      "text/plain": [
       "    patient_id  gender        race date_of_birth date_of_death  age_years  \\\n",
       "0  SP000035853  Female  Other Race    1950-07-06           NaT         75   \n",
       "1  SP000035853  Female  Other Race    1950-07-06           NaT         75   \n",
       "2  SP000035853  Female  Other Race    1950-07-06           NaT         75   \n",
       "3  SP000035853  Female  Other Race    1950-07-06           NaT         75   \n",
       "4  SP000035853  Female  Other Race    1950-07-06           NaT         75   \n",
       "\n",
       "        diagnosis_date diagnosis_code  \\\n",
       "0  2015-02-01 12:00:00        C50.911   \n",
       "1  2014-12-30 12:00:00        C50.911   \n",
       "2  2016-12-28 12:00:00          Z85.3   \n",
       "3  2015-03-21 12:00:00        C50.919   \n",
       "4  2017-10-09 12:00:00          Z85.3   \n",
       "\n",
       "                                      diagnosis_name diagnosis_system  \n",
       "0  Malignant Neoplasm Of Unspecified Site Of Righ...          ICD10CM  \n",
       "1  Malignant Neoplasm Of Unspecified Site Of Righ...          ICD10CM  \n",
       "2   Personal History Of Malignant Neoplasm Of Breast          ICD10CM  \n",
       "3  Malignant Neoplasm Of Unspecified Site Of Unsp...          ICD10CM  \n",
       "4   Personal History Of Malignant Neoplasm Of Breast          ICD10CM  "
      ]
     },
     "execution_count": 36,
     "metadata": {},
     "output_type": "execute_result"
    }
   ],
   "source": [
    "pat_dia_merged_df = pd.merge(df1_clean, filtered_df2, on = 'patient_id', how = 'left')\n",
    "pat_dia_merged_df.head()"
   ]
  },
  {
   "cell_type": "code",
   "execution_count": 37,
   "id": "2817783a-aa01-4797-bf67-1111c9929870",
   "metadata": {},
   "outputs": [
    {
     "data": {
      "text/plain": [
       "(4621, 10)"
      ]
     },
     "execution_count": 37,
     "metadata": {},
     "output_type": "execute_result"
    }
   ],
   "source": [
    "pat_dia_merged_df.shape"
   ]
  },
  {
   "cell_type": "code",
   "execution_count": 38,
   "id": "9532bf24-648f-4b88-811e-758c39d00626",
   "metadata": {},
   "outputs": [
    {
     "data": {
      "text/plain": [
       "patient_id             0\n",
       "gender                 0\n",
       "race                1647\n",
       "date_of_birth          0\n",
       "date_of_death       3218\n",
       "age_years              0\n",
       "diagnosis_date         0\n",
       "diagnosis_code         0\n",
       "diagnosis_name         0\n",
       "diagnosis_system       0\n",
       "dtype: int64"
      ]
     },
     "execution_count": 38,
     "metadata": {},
     "output_type": "execute_result"
    }
   ],
   "source": [
    "pat_dia_merged_df.isnull().sum()"
   ]
  },
  {
   "cell_type": "code",
   "execution_count": 39,
   "id": "6f5064a1-23be-46b8-9846-f311aa1723c3",
   "metadata": {},
   "outputs": [
    {
     "data": {
      "image/png": "[encoded data removed]",
      "text/plain": [
       "<Figure size 1200x600 with 2 Axes>"
      ]
     },
     "metadata": {},
     "output_type": "display_data"
    }
   ],
   "source": [
    "# Keep one row per unique patient\n",
    "unique_patients = pat_dia_merged_df.drop_duplicates(subset=\"patient_id\")\n",
    "\n",
    "fig, axes = plt.subplots(1, 2, figsize=(12, 6))\n",
    "\n",
    "# Gender counts\n",
    "gender_counts = unique_patients[\"gender\"].value_counts(dropna=False)\n",
    "gender_counts.plot(kind=\"bar\", ax=axes[0])\n",
    "axes[0].set_title(\"Distribution of Gender\")\n",
    "axes[0].set_xlabel(\"Gender\")\n",
    "axes[0].set_ylabel(\"Count\")\n",
    "axes[0].tick_params(axis=\"x\", rotation=45)\n",
    "\n",
    "# Adding labels\n",
    "for p in axes[0].patches:\n",
    "    axes[0].annotate(\n",
    "        str(int(p.get_height())),\n",
    "        (p.get_x() + p.get_width() / 2., p.get_height()),\n",
    "        ha='center', va='bottom'\n",
    "    )\n",
    "\n",
    "# Race counts\n",
    "race_counts = unique_patients[\"race\"].value_counts(dropna=False)\n",
    "race_counts.plot(kind=\"bar\", ax=axes[1])\n",
    "axes[1].set_title(\"Distribution of Race\")\n",
    "axes[1].set_xlabel(\"Race\")\n",
    "axes[1].set_ylabel(\"Count\")\n",
    "axes[1].tick_params(axis=\"x\", rotation=45)\n",
    "\n",
    "# Adding labels\n",
    "for p in axes[1].patches:\n",
    "    axes[1].annotate(\n",
    "        str(int(p.get_height())),\n",
    "        (p.get_x() + p.get_width() / 2., p.get_height()),\n",
    "        ha='center', va='bottom'\n",
    "    )\n",
    "\n",
    "plt.tight_layout()\n",
    "plt.show()"
   ]
  },
  {
   "cell_type": "code",
   "execution_count": 40,
   "id": "d4d9d0a7-bf56-4983-b4fa-14d7a4eaf604",
   "metadata": {},
   "outputs": [
    {
     "data": {
      "image/png": "[encoded data removed]",
      "text/plain": [
       "<Figure size 800x500 with 1 Axes>"
      ]
     },
     "metadata": {},
     "output_type": "display_data"
    }
   ],
   "source": [
    "# Histogram for age\n",
    "plt.figure(figsize=(8, 5))\n",
    "plt.hist(unique_patients[\"age_years\"].dropna(), bins=20, edgecolor=\"black\")\n",
    "plt.title(\"Age Distribution of Patients\")\n",
    "plt.xlabel(\"Age (years)\")\n",
    "plt.ylabel(\"Number of Patients\")\n",
    "plt.show()"
   ]
  },
  {
   "cell_type": "code",
   "execution_count": 41,
   "id": "069e4ca4-7a4b-415a-9bd5-1547be4c63b5",
   "metadata": {},
   "outputs": [
    {
     "data": {
      "text/plain": [
       "count    94.000000\n",
       "mean     68.510638\n",
       "std      11.697573\n",
       "min      45.000000\n",
       "25%      59.000000\n",
       "50%      67.500000\n",
       "75%      76.000000\n",
       "max      95.000000\n",
       "Name: age_years, dtype: float64"
      ]
     },
     "execution_count": 41,
     "metadata": {},
     "output_type": "execute_result"
    }
   ],
   "source": [
    "unique_patients[\"age_years\"].describe()"
   ]
  },
  {
   "cell_type": "markdown",
   "id": "d7b70f3b-2f15-4764-8c89-25c8eeb9705d",
   "metadata": {},
   "source": [
    "# Medication"
   ]
  },
  {
   "cell_type": "code",
   "execution_count": 42,
   "id": "8b817326-2bdd-478b-9509-5d260ef7c1e1",
   "metadata": {},
   "outputs": [
    {
     "data": {
      "text/html": [
       "<div>\n",
       "<style scoped>\n",
       "    .dataframe tbody tr th:only-of-type {\n",
       "        vertical-align: middle;\n",
       "    }\n",
       "\n",
       "    .dataframe tbody tr th {\n",
       "        vertical-align: top;\n",
       "    }\n",
       "\n",
       "    .dataframe thead th {\n",
       "        text-align: right;\n",
       "    }\n",
       "</style>\n",
       "<table border=\"1\" class=\"dataframe\">\n",
       "  <thead>\n",
       "    <tr style=\"text-align: right;\">\n",
       "      <th></th>\n",
       "      <th>patient_id</th>\n",
       "      <th>med_start_date</th>\n",
       "      <th>med_end_date</th>\n",
       "      <th>med_generic_name</th>\n",
       "      <th>med_route_name</th>\n",
       "      <th>med_status</th>\n",
       "      <th>med_dose</th>\n",
       "    </tr>\n",
       "  </thead>\n",
       "  <tbody>\n",
       "    <tr>\n",
       "      <th>0</th>\n",
       "      <td>SP000449423</td>\n",
       "      <td>2015-12-22 12:00:00</td>\n",
       "      <td>2016-11-30 12:00:00</td>\n",
       "      <td>valsartan</td>\n",
       "      <td>Oral route</td>\n",
       "      <td>ordered</td>\n",
       "      <td>1.0</td>\n",
       "    </tr>\n",
       "    <tr>\n",
       "      <th>1</th>\n",
       "      <td>SP001550464</td>\n",
       "      <td>2018-04-23 18:28:00</td>\n",
       "      <td>NaT</td>\n",
       "      <td>eribulin</td>\n",
       "      <td>NaN</td>\n",
       "      <td>administered</td>\n",
       "      <td>2.5</td>\n",
       "    </tr>\n",
       "    <tr>\n",
       "      <th>2</th>\n",
       "      <td>SP000547437</td>\n",
       "      <td>2016-02-04 14:28:00</td>\n",
       "      <td>NaT</td>\n",
       "      <td>Potassium Chloride</td>\n",
       "      <td>NaN</td>\n",
       "      <td>administered</td>\n",
       "      <td>20.0</td>\n",
       "    </tr>\n",
       "    <tr>\n",
       "      <th>3</th>\n",
       "      <td>SP001550464</td>\n",
       "      <td>2017-03-15 17:58:00</td>\n",
       "      <td>NaT</td>\n",
       "      <td>vinorelbine</td>\n",
       "      <td>NaN</td>\n",
       "      <td>administered</td>\n",
       "      <td>44.0</td>\n",
       "    </tr>\n",
       "    <tr>\n",
       "      <th>4</th>\n",
       "      <td>SP001524174</td>\n",
       "      <td>2010-12-09 14:58:00</td>\n",
       "      <td>NaT</td>\n",
       "      <td>moxifloxacin</td>\n",
       "      <td>NaN</td>\n",
       "      <td>administered</td>\n",
       "      <td>1.0</td>\n",
       "    </tr>\n",
       "  </tbody>\n",
       "</table>\n",
       "</div>"
      ],
      "text/plain": [
       "    patient_id      med_start_date        med_end_date    med_generic_name  \\\n",
       "0  SP000449423 2015-12-22 12:00:00 2016-11-30 12:00:00           valsartan   \n",
       "1  SP001550464 2018-04-23 18:28:00                 NaT            eribulin   \n",
       "2  SP000547437 2016-02-04 14:28:00                 NaT  Potassium Chloride   \n",
       "3  SP001550464 2017-03-15 17:58:00                 NaT         vinorelbine   \n",
       "4  SP001524174 2010-12-09 14:58:00                 NaT        moxifloxacin   \n",
       "\n",
       "  med_route_name    med_status  med_dose  \n",
       "0     Oral route       ordered       1.0  \n",
       "1            NaN  administered       2.5  \n",
       "2            NaN  administered      20.0  \n",
       "3            NaN  administered      44.0  \n",
       "4            NaN  administered       1.0  "
      ]
     },
     "execution_count": 42,
     "metadata": {},
     "output_type": "execute_result"
    }
   ],
   "source": [
    "df3 = pd.read_excel(\"ConcertAI Data Science Interview Dataset.xlsx\", sheet_name=\"Medication\")\n",
    "df3.head()"
   ]
  },
  {
   "cell_type": "code",
   "execution_count": 43,
   "id": "f129c407-11d6-433a-a1f6-9e42d9327f40",
   "metadata": {},
   "outputs": [
    {
     "data": {
      "text/plain": [
       "(36800, 7)"
      ]
     },
     "execution_count": 43,
     "metadata": {},
     "output_type": "execute_result"
    }
   ],
   "source": [
    "df3.shape"
   ]
  },
  {
   "cell_type": "code",
   "execution_count": 44,
   "id": "b2a5698b-d270-4c38-b3d5-efc9c086b641",
   "metadata": {},
   "outputs": [
    {
     "data": {
      "text/plain": [
       "patient_id                  object\n",
       "med_start_date      datetime64[ns]\n",
       "med_end_date        datetime64[ns]\n",
       "med_generic_name            object\n",
       "med_route_name              object\n",
       "med_status                  object\n",
       "med_dose                   float64\n",
       "dtype: object"
      ]
     },
     "execution_count": 44,
     "metadata": {},
     "output_type": "execute_result"
    }
   ],
   "source": [
    "df3.dtypes"
   ]
  },
  {
   "cell_type": "code",
   "execution_count": 45,
   "id": "6123c0ad-b40c-4b8c-98e2-16e2313e0e52",
   "metadata": {},
   "outputs": [
    {
     "data": {
      "text/plain": [
       "patient_id              0\n",
       "med_start_date          0\n",
       "med_end_date        22915\n",
       "med_generic_name       44\n",
       "med_route_name      21014\n",
       "med_status             44\n",
       "med_dose             4348\n",
       "dtype: int64"
      ]
     },
     "execution_count": 45,
     "metadata": {},
     "output_type": "execute_result"
    }
   ],
   "source": [
    "df3.isnull().sum()"
   ]
  },
  {
   "cell_type": "code",
   "execution_count": 46,
   "id": "0b713327-451f-42fe-9977-b3b5932be63a",
   "metadata": {},
   "outputs": [
    {
     "data": {
      "text/plain": [
       "96"
      ]
     },
     "execution_count": 46,
     "metadata": {},
     "output_type": "execute_result"
    }
   ],
   "source": [
    "df3.patient_id.nunique()"
   ]
  },
  {
   "cell_type": "markdown",
   "id": "14882d5b-6a80-445c-82dd-20bb55306c58",
   "metadata": {},
   "source": [
    "#### We'll let join take care of extra patient IDs this time"
   ]
  },
  {
   "cell_type": "code",
   "execution_count": 47,
   "id": "7b173c4c-5012-4b1c-95ea-e68f71caba06",
   "metadata": {},
   "outputs": [
    {
     "data": {
      "text/plain": [
       "386"
      ]
     },
     "execution_count": 47,
     "metadata": {},
     "output_type": "execute_result"
    }
   ],
   "source": [
    "df3.med_generic_name.nunique()"
   ]
  },
  {
   "cell_type": "code",
   "execution_count": 48,
   "id": "be56bfdf-ee4f-4fdb-8de8-ef74fb567812",
   "metadata": {},
   "outputs": [
    {
     "data": {
      "text/plain": [
       "26"
      ]
     },
     "execution_count": 48,
     "metadata": {},
     "output_type": "execute_result"
    }
   ],
   "source": [
    "df3.med_route_name.nunique()"
   ]
  },
  {
   "cell_type": "code",
   "execution_count": 49,
   "id": "dfef357f-91fb-4ac5-8260-6fcadc09cd9e",
   "metadata": {},
   "outputs": [
    {
     "data": {
      "text/plain": [
       "array(['ordered', 'administered', 'Administered', nan], dtype=object)"
      ]
     },
     "execution_count": 49,
     "metadata": {},
     "output_type": "execute_result"
    }
   ],
   "source": [
    "df3.med_status.unique()"
   ]
  },
  {
   "cell_type": "markdown",
   "id": "6af3d602-b198-4a3a-b911-9a7fad048b80",
   "metadata": {},
   "source": [
    "#### Join with 'pat_dia_merged_df' to get cohort medication information"
   ]
  },
  {
   "cell_type": "code",
   "execution_count": 50,
   "id": "9ef69ab0-5ef1-4f9b-9f86-a65348beb936",
   "metadata": {},
   "outputs": [
    {
     "data": {
      "text/html": [
       "<div>\n",
       "<style scoped>\n",
       "    .dataframe tbody tr th:only-of-type {\n",
       "        vertical-align: middle;\n",
       "    }\n",
       "\n",
       "    .dataframe tbody tr th {\n",
       "        vertical-align: top;\n",
       "    }\n",
       "\n",
       "    .dataframe thead th {\n",
       "        text-align: right;\n",
       "    }\n",
       "</style>\n",
       "<table border=\"1\" class=\"dataframe\">\n",
       "  <thead>\n",
       "    <tr style=\"text-align: right;\">\n",
       "      <th></th>\n",
       "      <th>patient_id</th>\n",
       "      <th>gender</th>\n",
       "      <th>race</th>\n",
       "      <th>date_of_birth</th>\n",
       "      <th>date_of_death</th>\n",
       "      <th>age_years</th>\n",
       "      <th>diagnosis_date</th>\n",
       "      <th>diagnosis_code</th>\n",
       "      <th>diagnosis_name</th>\n",
       "      <th>diagnosis_system</th>\n",
       "      <th>med_start_date</th>\n",
       "      <th>med_end_date</th>\n",
       "      <th>med_generic_name</th>\n",
       "      <th>med_route_name</th>\n",
       "      <th>med_status</th>\n",
       "      <th>med_dose</th>\n",
       "    </tr>\n",
       "  </thead>\n",
       "  <tbody>\n",
       "    <tr>\n",
       "      <th>0</th>\n",
       "      <td>SP000035853</td>\n",
       "      <td>Female</td>\n",
       "      <td>Other Race</td>\n",
       "      <td>1950-07-06</td>\n",
       "      <td>NaT</td>\n",
       "      <td>75</td>\n",
       "      <td>2015-02-01 12:00:00</td>\n",
       "      <td>C50.911</td>\n",
       "      <td>Malignant Neoplasm Of Unspecified Site Of Righ...</td>\n",
       "      <td>ICD10CM</td>\n",
       "      <td>2014-12-01 05:47:00</td>\n",
       "      <td>NaT</td>\n",
       "      <td>Docusate</td>\n",
       "      <td>NaN</td>\n",
       "      <td>administered</td>\n",
       "      <td>200.0</td>\n",
       "    </tr>\n",
       "    <tr>\n",
       "      <th>1</th>\n",
       "      <td>SP000035853</td>\n",
       "      <td>Female</td>\n",
       "      <td>Other Race</td>\n",
       "      <td>1950-07-06</td>\n",
       "      <td>NaT</td>\n",
       "      <td>75</td>\n",
       "      <td>2015-02-01 12:00:00</td>\n",
       "      <td>C50.911</td>\n",
       "      <td>Malignant Neoplasm Of Unspecified Site Of Righ...</td>\n",
       "      <td>ICD10CM</td>\n",
       "      <td>2018-11-23 00:00:00</td>\n",
       "      <td>2018-11-25 00:00:00</td>\n",
       "      <td>Glucagon</td>\n",
       "      <td>Intramuscular route</td>\n",
       "      <td>ordered</td>\n",
       "      <td>1.0</td>\n",
       "    </tr>\n",
       "    <tr>\n",
       "      <th>2</th>\n",
       "      <td>SP000035853</td>\n",
       "      <td>Female</td>\n",
       "      <td>Other Race</td>\n",
       "      <td>1950-07-06</td>\n",
       "      <td>NaT</td>\n",
       "      <td>75</td>\n",
       "      <td>2015-02-01 12:00:00</td>\n",
       "      <td>C50.911</td>\n",
       "      <td>Malignant Neoplasm Of Unspecified Site Of Righ...</td>\n",
       "      <td>ICD10CM</td>\n",
       "      <td>2018-11-29 00:00:00</td>\n",
       "      <td>NaT</td>\n",
       "      <td>atorvastatin</td>\n",
       "      <td>Oral route</td>\n",
       "      <td>ordered</td>\n",
       "      <td>20.0</td>\n",
       "    </tr>\n",
       "    <tr>\n",
       "      <th>3</th>\n",
       "      <td>SP000035853</td>\n",
       "      <td>Female</td>\n",
       "      <td>Other Race</td>\n",
       "      <td>1950-07-06</td>\n",
       "      <td>NaT</td>\n",
       "      <td>75</td>\n",
       "      <td>2015-02-01 12:00:00</td>\n",
       "      <td>C50.911</td>\n",
       "      <td>Malignant Neoplasm Of Unspecified Site Of Righ...</td>\n",
       "      <td>ICD10CM</td>\n",
       "      <td>2018-11-22 00:00:00</td>\n",
       "      <td>2018-11-22 00:00:00</td>\n",
       "      <td>insulin, isophane</td>\n",
       "      <td>Subcutaneous route</td>\n",
       "      <td>ordered</td>\n",
       "      <td>10.0</td>\n",
       "    </tr>\n",
       "    <tr>\n",
       "      <th>4</th>\n",
       "      <td>SP000035853</td>\n",
       "      <td>Female</td>\n",
       "      <td>Other Race</td>\n",
       "      <td>1950-07-06</td>\n",
       "      <td>NaT</td>\n",
       "      <td>75</td>\n",
       "      <td>2015-02-01 12:00:00</td>\n",
       "      <td>C50.911</td>\n",
       "      <td>Malignant Neoplasm Of Unspecified Site Of Righ...</td>\n",
       "      <td>ICD10CM</td>\n",
       "      <td>2013-10-02 12:00:00</td>\n",
       "      <td>2013-10-02 12:00:00</td>\n",
       "      <td>prednisolone</td>\n",
       "      <td>Ocular route</td>\n",
       "      <td>ordered</td>\n",
       "      <td>1.0</td>\n",
       "    </tr>\n",
       "  </tbody>\n",
       "</table>\n",
       "</div>"
      ],
      "text/plain": [
       "    patient_id  gender        race date_of_birth date_of_death  age_years  \\\n",
       "0  SP000035853  Female  Other Race    1950-07-06           NaT         75   \n",
       "1  SP000035853  Female  Other Race    1950-07-06           NaT         75   \n",
       "2  SP000035853  Female  Other Race    1950-07-06           NaT         75   \n",
       "3  SP000035853  Female  Other Race    1950-07-06           NaT         75   \n",
       "4  SP000035853  Female  Other Race    1950-07-06           NaT         75   \n",
       "\n",
       "        diagnosis_date diagnosis_code  \\\n",
       "0  2015-02-01 12:00:00        C50.911   \n",
       "1  2015-02-01 12:00:00        C50.911   \n",
       "2  2015-02-01 12:00:00        C50.911   \n",
       "3  2015-02-01 12:00:00        C50.911   \n",
       "4  2015-02-01 12:00:00        C50.911   \n",
       "\n",
       "                                      diagnosis_name diagnosis_system  \\\n",
       "0  Malignant Neoplasm Of Unspecified Site Of Righ...          ICD10CM   \n",
       "1  Malignant Neoplasm Of Unspecified Site Of Righ...          ICD10CM   \n",
       "2  Malignant Neoplasm Of Unspecified Site Of Righ...          ICD10CM   \n",
       "3  Malignant Neoplasm Of Unspecified Site Of Righ...          ICD10CM   \n",
       "4  Malignant Neoplasm Of Unspecified Site Of Righ...          ICD10CM   \n",
       "\n",
       "       med_start_date        med_end_date   med_generic_name  \\\n",
       "0 2014-12-01 05:47:00                 NaT           Docusate   \n",
       "1 2018-11-23 00:00:00 2018-11-25 00:00:00           Glucagon   \n",
       "2 2018-11-29 00:00:00                 NaT       atorvastatin   \n",
       "3 2018-11-22 00:00:00 2018-11-22 00:00:00  insulin, isophane   \n",
       "4 2013-10-02 12:00:00 2013-10-02 12:00:00       prednisolone   \n",
       "\n",
       "        med_route_name    med_status  med_dose  \n",
       "0                  NaN  administered     200.0  \n",
       "1  Intramuscular route       ordered       1.0  \n",
       "2           Oral route       ordered      20.0  \n",
       "3   Subcutaneous route       ordered      10.0  \n",
       "4         Ocular route       ordered       1.0  "
      ]
     },
     "execution_count": 50,
     "metadata": {},
     "output_type": "execute_result"
    }
   ],
   "source": [
    "pat_dia_med_merged_df = pd.merge(pat_dia_merged_df, df3, on = 'patient_id', how = 'left')\n",
    "pat_dia_med_merged_df.head()"
   ]
  },
  {
   "cell_type": "code",
   "execution_count": 51,
   "id": "ebe1979e-16d9-4266-9c34-7c1b84d1a20d",
   "metadata": {},
   "outputs": [
    {
     "data": {
      "text/plain": [
       "94"
      ]
     },
     "execution_count": 51,
     "metadata": {},
     "output_type": "execute_result"
    }
   ],
   "source": [
    "pat_dia_med_merged_df.patient_id.nunique()"
   ]
  },
  {
   "cell_type": "markdown",
   "id": "700be1e4-32fd-46b4-b030-49239c8cc8c9",
   "metadata": {},
   "source": [
    "#### ↑ Extra patients removed"
   ]
  },
  {
   "cell_type": "code",
   "execution_count": 52,
   "id": "ac6f201d-1f6b-4312-ae53-a3209fdcfe49",
   "metadata": {},
   "outputs": [
    {
     "data": {
      "text/plain": [
       "(3220148, 16)"
      ]
     },
     "execution_count": 52,
     "metadata": {},
     "output_type": "execute_result"
    }
   ],
   "source": [
    "pat_dia_med_merged_df.shape"
   ]
  },
  {
   "cell_type": "markdown",
   "id": "8127accc-f3df-4f9c-92de-eaeeea0f6b75",
   "metadata": {},
   "source": [
    "#### Assumption -> Medication duration: Missing 'med_end_date' means medication still ongoing"
   ]
  },
  {
   "cell_type": "code",
   "execution_count": 53,
   "id": "8b04f6df-b64e-4723-aaf8-2a62e8b26a86",
   "metadata": {},
   "outputs": [
    {
     "data": {
      "text/html": [
       "<div>\n",
       "<style scoped>\n",
       "    .dataframe tbody tr th:only-of-type {\n",
       "        vertical-align: middle;\n",
       "    }\n",
       "\n",
       "    .dataframe tbody tr th {\n",
       "        vertical-align: top;\n",
       "    }\n",
       "\n",
       "    .dataframe thead th {\n",
       "        text-align: right;\n",
       "    }\n",
       "</style>\n",
       "<table border=\"1\" class=\"dataframe\">\n",
       "  <thead>\n",
       "    <tr style=\"text-align: right;\">\n",
       "      <th></th>\n",
       "      <th>patient_id</th>\n",
       "      <th>gender</th>\n",
       "      <th>race</th>\n",
       "      <th>date_of_birth</th>\n",
       "      <th>date_of_death</th>\n",
       "      <th>age_years</th>\n",
       "      <th>diagnosis_date</th>\n",
       "      <th>diagnosis_code</th>\n",
       "      <th>diagnosis_name</th>\n",
       "      <th>diagnosis_system</th>\n",
       "      <th>med_start_date</th>\n",
       "      <th>med_end_date</th>\n",
       "      <th>med_generic_name</th>\n",
       "      <th>med_route_name</th>\n",
       "      <th>med_status</th>\n",
       "      <th>med_dose</th>\n",
       "      <th>med_end_date_filled</th>\n",
       "      <th>med_duration_days</th>\n",
       "    </tr>\n",
       "  </thead>\n",
       "  <tbody>\n",
       "    <tr>\n",
       "      <th>0</th>\n",
       "      <td>SP000035853</td>\n",
       "      <td>Female</td>\n",
       "      <td>Other Race</td>\n",
       "      <td>1950-07-06</td>\n",
       "      <td>NaT</td>\n",
       "      <td>75</td>\n",
       "      <td>2015-02-01 12:00:00</td>\n",
       "      <td>C50.911</td>\n",
       "      <td>Malignant Neoplasm Of Unspecified Site Of Righ...</td>\n",
       "      <td>ICD10CM</td>\n",
       "      <td>2014-12-01 05:47:00</td>\n",
       "      <td>NaT</td>\n",
       "      <td>Docusate</td>\n",
       "      <td>NaN</td>\n",
       "      <td>administered</td>\n",
       "      <td>200.0</td>\n",
       "      <td>2025-10-24 00:00:00</td>\n",
       "      <td>3979</td>\n",
       "    </tr>\n",
       "    <tr>\n",
       "      <th>1</th>\n",
       "      <td>SP000035853</td>\n",
       "      <td>Female</td>\n",
       "      <td>Other Race</td>\n",
       "      <td>1950-07-06</td>\n",
       "      <td>NaT</td>\n",
       "      <td>75</td>\n",
       "      <td>2015-02-01 12:00:00</td>\n",
       "      <td>C50.911</td>\n",
       "      <td>Malignant Neoplasm Of Unspecified Site Of Righ...</td>\n",
       "      <td>ICD10CM</td>\n",
       "      <td>2018-11-23 00:00:00</td>\n",
       "      <td>2018-11-25 00:00:00</td>\n",
       "      <td>Glucagon</td>\n",
       "      <td>Intramuscular route</td>\n",
       "      <td>ordered</td>\n",
       "      <td>1.0</td>\n",
       "      <td>2018-11-25 00:00:00</td>\n",
       "      <td>2</td>\n",
       "    </tr>\n",
       "    <tr>\n",
       "      <th>2</th>\n",
       "      <td>SP000035853</td>\n",
       "      <td>Female</td>\n",
       "      <td>Other Race</td>\n",
       "      <td>1950-07-06</td>\n",
       "      <td>NaT</td>\n",
       "      <td>75</td>\n",
       "      <td>2015-02-01 12:00:00</td>\n",
       "      <td>C50.911</td>\n",
       "      <td>Malignant Neoplasm Of Unspecified Site Of Righ...</td>\n",
       "      <td>ICD10CM</td>\n",
       "      <td>2018-11-29 00:00:00</td>\n",
       "      <td>NaT</td>\n",
       "      <td>atorvastatin</td>\n",
       "      <td>Oral route</td>\n",
       "      <td>ordered</td>\n",
       "      <td>20.0</td>\n",
       "      <td>2025-10-24 00:00:00</td>\n",
       "      <td>2521</td>\n",
       "    </tr>\n",
       "    <tr>\n",
       "      <th>3</th>\n",
       "      <td>SP000035853</td>\n",
       "      <td>Female</td>\n",
       "      <td>Other Race</td>\n",
       "      <td>1950-07-06</td>\n",
       "      <td>NaT</td>\n",
       "      <td>75</td>\n",
       "      <td>2015-02-01 12:00:00</td>\n",
       "      <td>C50.911</td>\n",
       "      <td>Malignant Neoplasm Of Unspecified Site Of Righ...</td>\n",
       "      <td>ICD10CM</td>\n",
       "      <td>2018-11-22 00:00:00</td>\n",
       "      <td>2018-11-22 00:00:00</td>\n",
       "      <td>insulin, isophane</td>\n",
       "      <td>Subcutaneous route</td>\n",
       "      <td>ordered</td>\n",
       "      <td>10.0</td>\n",
       "      <td>2018-11-22 00:00:00</td>\n",
       "      <td>0</td>\n",
       "    </tr>\n",
       "    <tr>\n",
       "      <th>4</th>\n",
       "      <td>SP000035853</td>\n",
       "      <td>Female</td>\n",
       "      <td>Other Race</td>\n",
       "      <td>1950-07-06</td>\n",
       "      <td>NaT</td>\n",
       "      <td>75</td>\n",
       "      <td>2015-02-01 12:00:00</td>\n",
       "      <td>C50.911</td>\n",
       "      <td>Malignant Neoplasm Of Unspecified Site Of Righ...</td>\n",
       "      <td>ICD10CM</td>\n",
       "      <td>2013-10-02 12:00:00</td>\n",
       "      <td>2013-10-02 12:00:00</td>\n",
       "      <td>prednisolone</td>\n",
       "      <td>Ocular route</td>\n",
       "      <td>ordered</td>\n",
       "      <td>1.0</td>\n",
       "      <td>2013-10-02 12:00:00</td>\n",
       "      <td>0</td>\n",
       "    </tr>\n",
       "  </tbody>\n",
       "</table>\n",
       "</div>"
      ],
      "text/plain": [
       "    patient_id  gender        race date_of_birth date_of_death  age_years  \\\n",
       "0  SP000035853  Female  Other Race    1950-07-06           NaT         75   \n",
       "1  SP000035853  Female  Other Race    1950-07-06           NaT         75   \n",
       "2  SP000035853  Female  Other Race    1950-07-06           NaT         75   \n",
       "3  SP000035853  Female  Other Race    1950-07-06           NaT         75   \n",
       "4  SP000035853  Female  Other Race    1950-07-06           NaT         75   \n",
       "\n",
       "        diagnosis_date diagnosis_code  \\\n",
       "0  2015-02-01 12:00:00        C50.911   \n",
       "1  2015-02-01 12:00:00        C50.911   \n",
       "2  2015-02-01 12:00:00        C50.911   \n",
       "3  2015-02-01 12:00:00        C50.911   \n",
       "4  2015-02-01 12:00:00        C50.911   \n",
       "\n",
       "                                      diagnosis_name diagnosis_system  \\\n",
       "0  Malignant Neoplasm Of Unspecified Site Of Righ...          ICD10CM   \n",
       "1  Malignant Neoplasm Of Unspecified Site Of Righ...          ICD10CM   \n",
       "2  Malignant Neoplasm Of Unspecified Site Of Righ...          ICD10CM   \n",
       "3  Malignant Neoplasm Of Unspecified Site Of Righ...          ICD10CM   \n",
       "4  Malignant Neoplasm Of Unspecified Site Of Righ...          ICD10CM   \n",
       "\n",
       "       med_start_date        med_end_date   med_generic_name  \\\n",
       "0 2014-12-01 05:47:00                 NaT           Docusate   \n",
       "1 2018-11-23 00:00:00 2018-11-25 00:00:00           Glucagon   \n",
       "2 2018-11-29 00:00:00                 NaT       atorvastatin   \n",
       "3 2018-11-22 00:00:00 2018-11-22 00:00:00  insulin, isophane   \n",
       "4 2013-10-02 12:00:00 2013-10-02 12:00:00       prednisolone   \n",
       "\n",
       "        med_route_name    med_status  med_dose med_end_date_filled  \\\n",
       "0                  NaN  administered     200.0 2025-10-24 00:00:00   \n",
       "1  Intramuscular route       ordered       1.0 2018-11-25 00:00:00   \n",
       "2           Oral route       ordered      20.0 2025-10-24 00:00:00   \n",
       "3   Subcutaneous route       ordered      10.0 2018-11-22 00:00:00   \n",
       "4         Ocular route       ordered       1.0 2013-10-02 12:00:00   \n",
       "\n",
       "   med_duration_days  \n",
       "0               3979  \n",
       "1                  2  \n",
       "2               2521  \n",
       "3                  0  \n",
       "4                  0  "
      ]
     },
     "execution_count": 53,
     "metadata": {},
     "output_type": "execute_result"
    }
   ],
   "source": [
    "today = pd.Timestamp.today().normalize()\n",
    "pat_dia_med_merged_df[\"med_end_date_filled\"] = pat_dia_med_merged_df[\"med_end_date\"].fillna(today)\n",
    "\n",
    "pat_dia_med_merged_df[\"med_duration_days\"] = (pat_dia_med_merged_df[\"med_end_date_filled\"] - pat_dia_med_merged_df[\"med_start_date\"]).dt.days\n",
    "\n",
    "pat_dia_med_merged_df.head()"
   ]
  },
  {
   "cell_type": "code",
   "execution_count": 54,
   "id": "6c621275-4adb-4d5a-86b4-f8c3474e0ae2",
   "metadata": {},
   "outputs": [
    {
     "data": {
      "text/plain": [
       "count    3.220148e+06\n",
       "mean     2.503506e+03\n",
       "std      3.140442e+03\n",
       "min     -2.911000e+03\n",
       "25%      3.000000e+00\n",
       "50%      3.164000e+03\n",
       "75%      4.076000e+03\n",
       "max      4.594800e+04\n",
       "Name: med_duration_days, dtype: float64"
      ]
     },
     "execution_count": 54,
     "metadata": {},
     "output_type": "execute_result"
    }
   ],
   "source": [
    "pat_dia_med_merged_df.med_duration_days.describe()"
   ]
  },
  {
   "cell_type": "code",
   "execution_count": 55,
   "id": "5105c85d-2667-4662-a4a1-02db4f4a6b89",
   "metadata": {},
   "outputs": [
    {
     "data": {
      "text/html": [
       "<div>\n",
       "<style scoped>\n",
       "    .dataframe tbody tr th:only-of-type {\n",
       "        vertical-align: middle;\n",
       "    }\n",
       "\n",
       "    .dataframe tbody tr th {\n",
       "        vertical-align: top;\n",
       "    }\n",
       "\n",
       "    .dataframe thead th {\n",
       "        text-align: right;\n",
       "    }\n",
       "</style>\n",
       "<table border=\"1\" class=\"dataframe\">\n",
       "  <thead>\n",
       "    <tr style=\"text-align: right;\">\n",
       "      <th></th>\n",
       "      <th>patient_id</th>\n",
       "      <th>gender</th>\n",
       "      <th>race</th>\n",
       "      <th>date_of_birth</th>\n",
       "      <th>date_of_death</th>\n",
       "      <th>age_years</th>\n",
       "      <th>diagnosis_date</th>\n",
       "      <th>diagnosis_code</th>\n",
       "      <th>diagnosis_name</th>\n",
       "      <th>diagnosis_system</th>\n",
       "      <th>med_start_date</th>\n",
       "      <th>med_end_date</th>\n",
       "      <th>med_generic_name</th>\n",
       "      <th>med_route_name</th>\n",
       "      <th>med_status</th>\n",
       "      <th>med_dose</th>\n",
       "      <th>med_end_date_filled</th>\n",
       "      <th>med_duration_days</th>\n",
       "    </tr>\n",
       "  </thead>\n",
       "  <tbody>\n",
       "    <tr>\n",
       "      <th>57887</th>\n",
       "      <td>SP000134430</td>\n",
       "      <td>Female</td>\n",
       "      <td>None</td>\n",
       "      <td>1953-07-07</td>\n",
       "      <td>2025-10-21</td>\n",
       "      <td>72</td>\n",
       "      <td>2017-05-02 12:00:00</td>\n",
       "      <td>C50.919</td>\n",
       "      <td>Malignant Neoplasm Of Unspecified Site Of Unsp...</td>\n",
       "      <td>ICD10CM</td>\n",
       "      <td>2016-12-02 12:00:00</td>\n",
       "      <td>2016-12-01 12:00:00</td>\n",
       "      <td>Enoxaparin</td>\n",
       "      <td>Subcutaneous route</td>\n",
       "      <td>ordered</td>\n",
       "      <td>40.0</td>\n",
       "      <td>2016-12-01 12:00:00</td>\n",
       "      <td>-1</td>\n",
       "    </tr>\n",
       "    <tr>\n",
       "      <th>58458</th>\n",
       "      <td>SP000134430</td>\n",
       "      <td>Female</td>\n",
       "      <td>None</td>\n",
       "      <td>1953-07-07</td>\n",
       "      <td>2025-10-21</td>\n",
       "      <td>72</td>\n",
       "      <td>2014-08-17 12:00:00</td>\n",
       "      <td>C50.919</td>\n",
       "      <td>Malignant Neoplasm Of Unspecified Site Of Unsp...</td>\n",
       "      <td>ICD10CM</td>\n",
       "      <td>2016-12-02 12:00:00</td>\n",
       "      <td>2016-12-01 12:00:00</td>\n",
       "      <td>Enoxaparin</td>\n",
       "      <td>Subcutaneous route</td>\n",
       "      <td>ordered</td>\n",
       "      <td>40.0</td>\n",
       "      <td>2016-12-01 12:00:00</td>\n",
       "      <td>-1</td>\n",
       "    </tr>\n",
       "    <tr>\n",
       "      <th>59029</th>\n",
       "      <td>SP000134430</td>\n",
       "      <td>Female</td>\n",
       "      <td>None</td>\n",
       "      <td>1953-07-07</td>\n",
       "      <td>2025-10-21</td>\n",
       "      <td>72</td>\n",
       "      <td>2017-04-03 12:00:00</td>\n",
       "      <td>C50.919</td>\n",
       "      <td>Malignant Neoplasm Of Unspecified Site Of Unsp...</td>\n",
       "      <td>ICD10CM</td>\n",
       "      <td>2016-12-02 12:00:00</td>\n",
       "      <td>2016-12-01 12:00:00</td>\n",
       "      <td>Enoxaparin</td>\n",
       "      <td>Subcutaneous route</td>\n",
       "      <td>ordered</td>\n",
       "      <td>40.0</td>\n",
       "      <td>2016-12-01 12:00:00</td>\n",
       "      <td>-1</td>\n",
       "    </tr>\n",
       "    <tr>\n",
       "      <th>59600</th>\n",
       "      <td>SP000134430</td>\n",
       "      <td>Female</td>\n",
       "      <td>None</td>\n",
       "      <td>1953-07-07</td>\n",
       "      <td>2025-10-21</td>\n",
       "      <td>72</td>\n",
       "      <td>2016-11-29 12:00:00</td>\n",
       "      <td>C50.912</td>\n",
       "      <td>Malignant Neoplasm Of Unspecified Site Of Left...</td>\n",
       "      <td>ICD10CM</td>\n",
       "      <td>2016-12-02 12:00:00</td>\n",
       "      <td>2016-12-01 12:00:00</td>\n",
       "      <td>Enoxaparin</td>\n",
       "      <td>Subcutaneous route</td>\n",
       "      <td>ordered</td>\n",
       "      <td>40.0</td>\n",
       "      <td>2016-12-01 12:00:00</td>\n",
       "      <td>-1</td>\n",
       "    </tr>\n",
       "    <tr>\n",
       "      <th>60171</th>\n",
       "      <td>SP000134430</td>\n",
       "      <td>Female</td>\n",
       "      <td>None</td>\n",
       "      <td>1953-07-07</td>\n",
       "      <td>2025-10-21</td>\n",
       "      <td>72</td>\n",
       "      <td>2014-07-14 12:00:00</td>\n",
       "      <td>C50.212</td>\n",
       "      <td>Malignant Neoplasm Of Upper-inner Quadrant Of ...</td>\n",
       "      <td>ICD10CM</td>\n",
       "      <td>2016-12-02 12:00:00</td>\n",
       "      <td>2016-12-01 12:00:00</td>\n",
       "      <td>Enoxaparin</td>\n",
       "      <td>Subcutaneous route</td>\n",
       "      <td>ordered</td>\n",
       "      <td>40.0</td>\n",
       "      <td>2016-12-01 12:00:00</td>\n",
       "      <td>-1</td>\n",
       "    </tr>\n",
       "  </tbody>\n",
       "</table>\n",
       "</div>"
      ],
      "text/plain": [
       "        patient_id  gender  race date_of_birth date_of_death  age_years  \\\n",
       "57887  SP000134430  Female  None    1953-07-07    2025-10-21         72   \n",
       "58458  SP000134430  Female  None    1953-07-07    2025-10-21         72   \n",
       "59029  SP000134430  Female  None    1953-07-07    2025-10-21         72   \n",
       "59600  SP000134430  Female  None    1953-07-07    2025-10-21         72   \n",
       "60171  SP000134430  Female  None    1953-07-07    2025-10-21         72   \n",
       "\n",
       "            diagnosis_date diagnosis_code  \\\n",
       "57887  2017-05-02 12:00:00        C50.919   \n",
       "58458  2014-08-17 12:00:00        C50.919   \n",
       "59029  2017-04-03 12:00:00        C50.919   \n",
       "59600  2016-11-29 12:00:00        C50.912   \n",
       "60171  2014-07-14 12:00:00        C50.212   \n",
       "\n",
       "                                          diagnosis_name diagnosis_system  \\\n",
       "57887  Malignant Neoplasm Of Unspecified Site Of Unsp...          ICD10CM   \n",
       "58458  Malignant Neoplasm Of Unspecified Site Of Unsp...          ICD10CM   \n",
       "59029  Malignant Neoplasm Of Unspecified Site Of Unsp...          ICD10CM   \n",
       "59600  Malignant Neoplasm Of Unspecified Site Of Left...          ICD10CM   \n",
       "60171  Malignant Neoplasm Of Upper-inner Quadrant Of ...          ICD10CM   \n",
       "\n",
       "           med_start_date        med_end_date med_generic_name  \\\n",
       "57887 2016-12-02 12:00:00 2016-12-01 12:00:00       Enoxaparin   \n",
       "58458 2016-12-02 12:00:00 2016-12-01 12:00:00       Enoxaparin   \n",
       "59029 2016-12-02 12:00:00 2016-12-01 12:00:00       Enoxaparin   \n",
       "59600 2016-12-02 12:00:00 2016-12-01 12:00:00       Enoxaparin   \n",
       "60171 2016-12-02 12:00:00 2016-12-01 12:00:00       Enoxaparin   \n",
       "\n",
       "           med_route_name med_status  med_dose med_end_date_filled  \\\n",
       "57887  Subcutaneous route    ordered      40.0 2016-12-01 12:00:00   \n",
       "58458  Subcutaneous route    ordered      40.0 2016-12-01 12:00:00   \n",
       "59029  Subcutaneous route    ordered      40.0 2016-12-01 12:00:00   \n",
       "59600  Subcutaneous route    ordered      40.0 2016-12-01 12:00:00   \n",
       "60171  Subcutaneous route    ordered      40.0 2016-12-01 12:00:00   \n",
       "\n",
       "       med_duration_days  \n",
       "57887                 -1  \n",
       "58458                 -1  \n",
       "59029                 -1  \n",
       "59600                 -1  \n",
       "60171                 -1  "
      ]
     },
     "execution_count": 55,
     "metadata": {},
     "output_type": "execute_result"
    }
   ],
   "source": [
    "pat_dia_med_merged_df_check = pat_dia_med_merged_df[pat_dia_med_merged_df['med_duration_days'] < 0]\n",
    "pat_dia_med_merged_df_check.head()"
   ]
  },
  {
   "cell_type": "code",
   "execution_count": 56,
   "id": "6904e5fe-ad8b-4e3f-8a11-563c92a23877",
   "metadata": {},
   "outputs": [
    {
     "data": {
      "text/plain": [
       "(4955, 18)"
      ]
     },
     "execution_count": 56,
     "metadata": {},
     "output_type": "execute_result"
    }
   ],
   "source": [
    "pat_dia_med_merged_df_check.shape"
   ]
  },
  {
   "cell_type": "markdown",
   "id": "cdc0b7e6-f46c-4a70-afa3-5e1555a40611",
   "metadata": {},
   "source": [
    "#### Seems like an error in data entry and values in columns 'med_start_date' & 'med_end_date' seem interchanged leading to negative 'med_duration_days' values for ~5k entries. We will take absolute values for 'med_duration_days' for these cases."
   ]
  },
  {
   "cell_type": "code",
   "execution_count": 57,
   "id": "de9812fe-bcfa-4ecf-a509-c80492836a8f",
   "metadata": {},
   "outputs": [
    {
     "data": {
      "text/html": [
       "<div>\n",
       "<style scoped>\n",
       "    .dataframe tbody tr th:only-of-type {\n",
       "        vertical-align: middle;\n",
       "    }\n",
       "\n",
       "    .dataframe tbody tr th {\n",
       "        vertical-align: top;\n",
       "    }\n",
       "\n",
       "    .dataframe thead th {\n",
       "        text-align: right;\n",
       "    }\n",
       "</style>\n",
       "<table border=\"1\" class=\"dataframe\">\n",
       "  <thead>\n",
       "    <tr style=\"text-align: right;\">\n",
       "      <th></th>\n",
       "      <th>patient_id</th>\n",
       "      <th>gender</th>\n",
       "      <th>race</th>\n",
       "      <th>date_of_birth</th>\n",
       "      <th>date_of_death</th>\n",
       "      <th>age_years</th>\n",
       "      <th>diagnosis_date</th>\n",
       "      <th>diagnosis_code</th>\n",
       "      <th>diagnosis_name</th>\n",
       "      <th>diagnosis_system</th>\n",
       "      <th>med_start_date</th>\n",
       "      <th>med_end_date</th>\n",
       "      <th>med_generic_name</th>\n",
       "      <th>med_route_name</th>\n",
       "      <th>med_status</th>\n",
       "      <th>med_dose</th>\n",
       "      <th>med_end_date_filled</th>\n",
       "      <th>med_duration_days</th>\n",
       "    </tr>\n",
       "  </thead>\n",
       "  <tbody>\n",
       "    <tr>\n",
       "      <th>0</th>\n",
       "      <td>SP000035853</td>\n",
       "      <td>Female</td>\n",
       "      <td>Other Race</td>\n",
       "      <td>1950-07-06</td>\n",
       "      <td>NaT</td>\n",
       "      <td>75</td>\n",
       "      <td>2015-02-01 12:00:00</td>\n",
       "      <td>C50.911</td>\n",
       "      <td>Malignant Neoplasm Of Unspecified Site Of Righ...</td>\n",
       "      <td>ICD10CM</td>\n",
       "      <td>2014-12-01 05:47:00</td>\n",
       "      <td>NaT</td>\n",
       "      <td>Docusate</td>\n",
       "      <td>NaN</td>\n",
       "      <td>administered</td>\n",
       "      <td>200.0</td>\n",
       "      <td>2025-10-24 00:00:00</td>\n",
       "      <td>3979</td>\n",
       "    </tr>\n",
       "    <tr>\n",
       "      <th>1</th>\n",
       "      <td>SP000035853</td>\n",
       "      <td>Female</td>\n",
       "      <td>Other Race</td>\n",
       "      <td>1950-07-06</td>\n",
       "      <td>NaT</td>\n",
       "      <td>75</td>\n",
       "      <td>2015-02-01 12:00:00</td>\n",
       "      <td>C50.911</td>\n",
       "      <td>Malignant Neoplasm Of Unspecified Site Of Righ...</td>\n",
       "      <td>ICD10CM</td>\n",
       "      <td>2018-11-23 00:00:00</td>\n",
       "      <td>2018-11-25 00:00:00</td>\n",
       "      <td>Glucagon</td>\n",
       "      <td>Intramuscular route</td>\n",
       "      <td>ordered</td>\n",
       "      <td>1.0</td>\n",
       "      <td>2018-11-25 00:00:00</td>\n",
       "      <td>2</td>\n",
       "    </tr>\n",
       "    <tr>\n",
       "      <th>2</th>\n",
       "      <td>SP000035853</td>\n",
       "      <td>Female</td>\n",
       "      <td>Other Race</td>\n",
       "      <td>1950-07-06</td>\n",
       "      <td>NaT</td>\n",
       "      <td>75</td>\n",
       "      <td>2015-02-01 12:00:00</td>\n",
       "      <td>C50.911</td>\n",
       "      <td>Malignant Neoplasm Of Unspecified Site Of Righ...</td>\n",
       "      <td>ICD10CM</td>\n",
       "      <td>2018-11-29 00:00:00</td>\n",
       "      <td>NaT</td>\n",
       "      <td>atorvastatin</td>\n",
       "      <td>Oral route</td>\n",
       "      <td>ordered</td>\n",
       "      <td>20.0</td>\n",
       "      <td>2025-10-24 00:00:00</td>\n",
       "      <td>2521</td>\n",
       "    </tr>\n",
       "    <tr>\n",
       "      <th>3</th>\n",
       "      <td>SP000035853</td>\n",
       "      <td>Female</td>\n",
       "      <td>Other Race</td>\n",
       "      <td>1950-07-06</td>\n",
       "      <td>NaT</td>\n",
       "      <td>75</td>\n",
       "      <td>2015-02-01 12:00:00</td>\n",
       "      <td>C50.911</td>\n",
       "      <td>Malignant Neoplasm Of Unspecified Site Of Righ...</td>\n",
       "      <td>ICD10CM</td>\n",
       "      <td>2018-11-22 00:00:00</td>\n",
       "      <td>2018-11-22 00:00:00</td>\n",
       "      <td>insulin, isophane</td>\n",
       "      <td>Subcutaneous route</td>\n",
       "      <td>ordered</td>\n",
       "      <td>10.0</td>\n",
       "      <td>2018-11-22 00:00:00</td>\n",
       "      <td>0</td>\n",
       "    </tr>\n",
       "    <tr>\n",
       "      <th>4</th>\n",
       "      <td>SP000035853</td>\n",
       "      <td>Female</td>\n",
       "      <td>Other Race</td>\n",
       "      <td>1950-07-06</td>\n",
       "      <td>NaT</td>\n",
       "      <td>75</td>\n",
       "      <td>2015-02-01 12:00:00</td>\n",
       "      <td>C50.911</td>\n",
       "      <td>Malignant Neoplasm Of Unspecified Site Of Righ...</td>\n",
       "      <td>ICD10CM</td>\n",
       "      <td>2013-10-02 12:00:00</td>\n",
       "      <td>2013-10-02 12:00:00</td>\n",
       "      <td>prednisolone</td>\n",
       "      <td>Ocular route</td>\n",
       "      <td>ordered</td>\n",
       "      <td>1.0</td>\n",
       "      <td>2013-10-02 12:00:00</td>\n",
       "      <td>0</td>\n",
       "    </tr>\n",
       "  </tbody>\n",
       "</table>\n",
       "</div>"
      ],
      "text/plain": [
       "    patient_id  gender        race date_of_birth date_of_death  age_years  \\\n",
       "0  SP000035853  Female  Other Race    1950-07-06           NaT         75   \n",
       "1  SP000035853  Female  Other Race    1950-07-06           NaT         75   \n",
       "2  SP000035853  Female  Other Race    1950-07-06           NaT         75   \n",
       "3  SP000035853  Female  Other Race    1950-07-06           NaT         75   \n",
       "4  SP000035853  Female  Other Race    1950-07-06           NaT         75   \n",
       "\n",
       "        diagnosis_date diagnosis_code  \\\n",
       "0  2015-02-01 12:00:00        C50.911   \n",
       "1  2015-02-01 12:00:00        C50.911   \n",
       "2  2015-02-01 12:00:00        C50.911   \n",
       "3  2015-02-01 12:00:00        C50.911   \n",
       "4  2015-02-01 12:00:00        C50.911   \n",
       "\n",
       "                                      diagnosis_name diagnosis_system  \\\n",
       "0  Malignant Neoplasm Of Unspecified Site Of Righ...          ICD10CM   \n",
       "1  Malignant Neoplasm Of Unspecified Site Of Righ...          ICD10CM   \n",
       "2  Malignant Neoplasm Of Unspecified Site Of Righ...          ICD10CM   \n",
       "3  Malignant Neoplasm Of Unspecified Site Of Righ...          ICD10CM   \n",
       "4  Malignant Neoplasm Of Unspecified Site Of Righ...          ICD10CM   \n",
       "\n",
       "       med_start_date        med_end_date   med_generic_name  \\\n",
       "0 2014-12-01 05:47:00                 NaT           Docusate   \n",
       "1 2018-11-23 00:00:00 2018-11-25 00:00:00           Glucagon   \n",
       "2 2018-11-29 00:00:00                 NaT       atorvastatin   \n",
       "3 2018-11-22 00:00:00 2018-11-22 00:00:00  insulin, isophane   \n",
       "4 2013-10-02 12:00:00 2013-10-02 12:00:00       prednisolone   \n",
       "\n",
       "        med_route_name    med_status  med_dose med_end_date_filled  \\\n",
       "0                  NaN  administered     200.0 2025-10-24 00:00:00   \n",
       "1  Intramuscular route       ordered       1.0 2018-11-25 00:00:00   \n",
       "2           Oral route       ordered      20.0 2025-10-24 00:00:00   \n",
       "3   Subcutaneous route       ordered      10.0 2018-11-22 00:00:00   \n",
       "4         Ocular route       ordered       1.0 2013-10-02 12:00:00   \n",
       "\n",
       "   med_duration_days  \n",
       "0               3979  \n",
       "1                  2  \n",
       "2               2521  \n",
       "3                  0  \n",
       "4                  0  "
      ]
     },
     "execution_count": 57,
     "metadata": {},
     "output_type": "execute_result"
    }
   ],
   "source": [
    "# fix negative values for 'med_duration_days'\n",
    "pat_dia_med_merged_df[\"med_duration_days\"] = pat_dia_med_merged_df[\"med_duration_days\"].abs()\n",
    "pat_dia_med_merged_df.head()"
   ]
  },
  {
   "cell_type": "code",
   "execution_count": 58,
   "id": "998c1da2-fa42-4a79-8818-ad13c81716fa",
   "metadata": {},
   "outputs": [
    {
     "data": {
      "text/plain": [
       "count    3.220148e+06\n",
       "mean     2.504457e+03\n",
       "std      3.139684e+03\n",
       "min      0.000000e+00\n",
       "25%      3.000000e+00\n",
       "50%      3.164000e+03\n",
       "75%      4.076000e+03\n",
       "max      4.594800e+04\n",
       "Name: med_duration_days, dtype: float64"
      ]
     },
     "execution_count": 58,
     "metadata": {},
     "output_type": "execute_result"
    }
   ],
   "source": [
    "pat_dia_med_merged_df.med_duration_days.describe()"
   ]
  },
  {
   "cell_type": "code",
   "execution_count": 59,
   "id": "6ba4fadb-946f-4067-89ff-aec229407cbd",
   "metadata": {
    "scrolled": true
   },
   "outputs": [
    {
     "data": {
      "text/plain": [
       "array(['Docusate', 'Glucagon', 'atorvastatin', 'insulin, isophane',\n",
       "       'prednisolone', 'Ondansetron', 'Metformin', 'brimonidine',\n",
       "       'Flurbiprofen', 'Succinylcholine', 'Ciprofloxacin', 'Simvastatin',\n",
       "       'pioglitazone', 'Tropicamide', 'Regular Insulin, Human',\n",
       "       'Dexamethasone', 'Acetaminophen', 'moxifloxacin',\n",
       "       'Cyclophosphamide', 'latanoprost', 'Cyclopentolate',\n",
       "       'Phenylephrine', 'Lorazepam', 'Glipizide', 'dorzolamide',\n",
       "       'Fluoxetine', 'docetaxel', 'Loperamide', 'Alendronate', 'Fentanyl',\n",
       "       'sennosides, USP', 'Promethazine', 'Glucose', 'brinzolamide',\n",
       "       'anastrozole', 'Midazolam', 'Propofol', 'Cefazolin', 'benzonatate',\n",
       "       'Cephalexin', 'tamsulosin', 'Albuterol', 'Ephedrine', 'Ibuprofen',\n",
       "       'Magnesium Sulfate', 'ropivacaine', 'Clarithromycin', 'Glyburide',\n",
       "       'Etodolac', 'Morphine', 'Linagliptin', 'Prochlorperazine',\n",
       "       'Hydromorphone', 'Lidocaine', 'Amoxicillin', 'Allopurinol',\n",
       "       'Hydroxyzine', 'Ranitidine', 'Methocarbamol', 'Acetazolamide',\n",
       "       'POLYETHYLENE GLYCOL 3350', 'Fluconazole',\n",
       "       'ado-trastuzumab emtansine', nan, 'Acetaminophen|Oxycodone',\n",
       "       'Acetaminophen|Hydrocodone', 'letrozole', 'exemestane',\n",
       "       'Hydrocodone', 'denosumab', 'Alprazolam', 'fulvestrant',\n",
       "       'Amlodipine', 'Azithromycin', 'everolimus', 'Lisinopril',\n",
       "       'gabapentin', 'Oxycodone', 'Prednisone', 'Furosemide',\n",
       "       'Diphenhydramine', 'Enalaprilat', 'Losartan', 'Bumetanide',\n",
       "       'valsartan', 'Pentoxifylline', 'Trazodone',\n",
       "       'Atropine|Diphenoxylate', 'Methylprednisolone', 'Methylphenidate',\n",
       "       'Fenofibrate', 'levothyroxine', 'Terazosin', 'pantoprazole',\n",
       "       'Sucralfate', 'Ipratropium', 'cefepime', 'Enoxaparin',\n",
       "       'Guaifenesin', 'fosaprepitant', 'linezolid', 'Vitamin E',\n",
       "       'atezolizumab', 'trastuzumab', 'pegfilgrastim',\n",
       "       'Tetrahydrocannabinol', 'pertuzumab', 'rivaroxaban',\n",
       "       'Erythromycin', 'Cholecalciferol', 'famciclovir', 'Levofloxacin',\n",
       "       'Triamcinolone|Nystatin', 'Potassium Chloride',\n",
       "       'Lactobacillus rhamnosus GG', 'Paclitaxel', 'Doxorubicin',\n",
       "       'Nitroglycerin', 'Vecuronium', 'aprepitant', 'Tramadol',\n",
       "       'Chlorhexidine', 'esmolol', 'Filgrastim', 'Rocuronium',\n",
       "       'Bacitracin', 'Acyclovir', 'Estrogens, Conjugated (USP)',\n",
       "       'Naproxen', 'Epinephrine', 'Lactulose', 'Nystatin', 'Omeprazole',\n",
       "       'palonosetron', 'Dolasetron', 'capecitabine',\n",
       "       'Chlorpheniramine|Hydrocodone', 'Mirtazapine', 'Diclofenac',\n",
       "       'Ergocalciferol', 'Aspirin', 'palbociclib', 'tiotropium',\n",
       "       'cyclobenzaprine', 'Citalopram', 'Propranolol',\n",
       "       'Albuterol|Ipratropium', 'quetiapine', 'Methimazole',\n",
       "       'valacyclovir', 'duloxetine', 'Vitamin B 12', 'celecoxib',\n",
       "       'Methylene blue', 'Leuprolide', 'magnesium citrate', 'Clindamycin',\n",
       "       'Baclofen', 'Cetirizine', 'Mometasone', 'olanzapine',\n",
       "       'Amitriptyline', 'Oseltamivir', 'Hydralazine', 'Hydrocortisone',\n",
       "       'Labetalol', 'Risperidone', 'Metronidazole', 'Warfarin',\n",
       "       'Beta Carotene', 'Water', 'Diltiazem', 'Sodium Chloride',\n",
       "       'Adenosine', 'Bupivacaine', 'Famotidine', 'Zinc Sulfate',\n",
       "       'Codeine', 'Spironolactone', 'meloxicam', 'Loratadine',\n",
       "       'carvedilol', 'Ketamine', 'Calcium Carbonate',\n",
       "       'Hydrochlorothiazide', 'venlafaxine', 'Metoprolol', 'Sertraline',\n",
       "       'Bupropion', 'Vancomycin', 'apixaban', 'Vitamin K 1', 'Meperidine',\n",
       "       'terconazole', 'Triamcinolone', 'oxybutynin', 'Clotrimazole',\n",
       "       'Tamoxifen', 'Rifampin', 'Misoprostol', 'Minocycline', 'Thrombin',\n",
       "       'Lisinopril|Hydrochlorothiazide', 'Dicyclomine', 'Clonidine',\n",
       "       'Fluphenazine', 'Carboplatin', 'Hydroxychloroquine', 'Ketorolac',\n",
       "       'Cyclosporine', 'Tretinoin', 'Scopolamine', 'zolpidem',\n",
       "       'zoledronic acid', 'olaparib', 'Triamterene',\n",
       "       'Triamterene|Hydrochlorothiazide', 'ferrous sulfate',\n",
       "       'Chlorthalidone', 'Captopril', 'Nitrofurantoin',\n",
       "       'Insulin, Aspart, Human', 'nepafenac', 'Insulin Glargine',\n",
       "       'COLLAGENASE', 'terbinafine', 'Desonide', 'Ketoconazole',\n",
       "       'Petrolatum', 'tolterodine', 'Sodium polystyrene sulfonate',\n",
       "       'hypromellose', 'pregabalin', 'Potassium', 'Lanolin',\n",
       "       'silver sulfadiazine', 'Ascorbic Acid', 'Ferrous fumarate',\n",
       "       'eribulin', 'vinorelbine', 'Losartan|Hydrochlorothiazide',\n",
       "       'fluticasone', 'Diazepam', 'Hydrochlorothiazide|valsartan',\n",
       "       'Povidone-Iodine', 'Doxycycline', 'Thiamine', 'Meclizine',\n",
       "       'tapentadol', 'Nortriptyline', 'Bisacodyl', 'rosuvastatin',\n",
       "       'calcium acetate', 'Primaquine', 'sevelamer', 'Acetylcysteine',\n",
       "       'ferrous gluconate', 'salmon calcitonin', 'Atovaquone',\n",
       "       'darbepoetin alfa', 'mycophenolate mofetil',\n",
       "       'Purified Protein Derivative of Tuberculin', 'sildenafil',\n",
       "       'Naloxone', 'Isosorbide', 'Memantine', 'Mupirocin', 'ambrisentan',\n",
       "       'palonosetron|netupitant', 'Simethicone', 'Magnesium Hydroxide',\n",
       "       'Magnesium Oxide', 'Isosorbide Dinitrate', 'Risedronate',\n",
       "       'Escitalopram', 'Clobetasol', 'Buspirone', 'Lovastatin',\n",
       "       'irbesartan', 'Levetiracetam', 'Pravastatin', 'Beclomethasone',\n",
       "       'lapatinib', 'Clonazepam', 'ixabepilone', 'Phenazopyridine',\n",
       "       'Valproate', 'fosphenytoin', 'Temazepam', 'Metoclopramide',\n",
       "       'Sodium Bicarbonate', 'trimethobenzamide', 'ertapenem',\n",
       "       'Benzocaine', 'MAGNESIUM GLUCONATE', 'pyridoxine', 'Esomeprazole',\n",
       "       'Doxepin', 'ramelteon', 'Eszopiclone', 'zaleplon', 'Solifenacin',\n",
       "       'Bethanechol', 'Tetracycline', 'Melatonin', 'montelukast',\n",
       "       'Gemfibrozil', 'Trospium', 'moexipril', 'Estradiol', 'Haloperidol',\n",
       "       'Chlorothiazide', 'lansoprazole', 'Metolazone', 'pamidronate',\n",
       "       'glimepiride', 'torsemide', 'nabumetone', 'Verapamil',\n",
       "       'eletriptan', 'tizanidine', 'Folic Acid', 'Paroxetine',\n",
       "       'rizatriptan', 'Perphenazine', 'Benztropine', 'Sumatriptan',\n",
       "       'Budesonide', 'oxcarbazepine', 'Ceftriaxone', 'Calcium Gluconate',\n",
       "       'dabigatran etexilate', 'Amiodarone', 'alvimopan', 'Etomidate',\n",
       "       'Tobramycin', 'Calcium Chloride', 'Ciprofloxacin|Dexamethasone',\n",
       "       'bimatoprost', 'lamotrigine', 'Carboxymethylcellulose', 'Atropine',\n",
       "       'Tetracaine', 'Hyoscyamine', 'Mefloquine', 'olopatadine',\n",
       "       'Guanfacine', 'adalimumab', 'clopidogrel', 'Capsaicin',\n",
       "       'gemcitabine', 'Insulin Lispro', 'Enalapril', 'Lithium Carbonate',\n",
       "       'Iopamidol', 'Naltrexone', 'Niacin', 'Atenolol', 'Ofloxacin',\n",
       "       'halobetasol', 'Dextromethorphan', 'salmeterol', 'aclidinium',\n",
       "       'empagliflozin', 'Levalbuterol', 'Nicotine', 'Sorbitol',\n",
       "       'Codeine|Promethazine', 'Calcitriol', 'cefpodoxime', 'Nisoldipine',\n",
       "       'Vasopressin (USP)', 'aliskiren', 'Papaverine', 'nebivolol',\n",
       "       'Acetaminophen|Codeine', 'Ethinyl Estradiol|Norethindrone',\n",
       "       'ezetimibe', 'Loratadine|Pseudoephedrine', 'Ibandronate',\n",
       "       'Raloxifene', 'doxorubicin liposome', 'Granisetron', 'modafinil'],\n",
       "      dtype=object)"
      ]
     },
     "execution_count": 59,
     "metadata": {},
     "output_type": "execute_result"
    }
   ],
   "source": [
    "pat_dia_med_merged_df.med_generic_name.unique()"
   ]
  },
  {
   "cell_type": "code",
   "execution_count": 60,
   "id": "fc77541a-b64f-4e98-9660-0a465b0954b0",
   "metadata": {},
   "outputs": [
    {
     "data": {
      "text/plain": [
       "array([nan, 'Intramuscular route', 'Oral route', 'Subcutaneous route',\n",
       "       'Ocular route', 'Injection route', 'Intravenous route', 'Oral',\n",
       "       'Inhalation Dosage Form route', 'Sublingual route',\n",
       "       'Unknown route', 'Transdermal route', 'Topical Route',\n",
       "       'Nebuliser Suspension route', 'Vaginal route', 'Liquid route',\n",
       "       'Nasal route', 'Catheter route', 'Rectal route',\n",
       "       'Intradermal route', 'Epidural route', 'Transmucosal Route',\n",
       "       'Submucosal Route', 'Intraarticular route', 'Nasogastric Route',\n",
       "       'Auricular route', 'Percutaneous Route'], dtype=object)"
      ]
     },
     "execution_count": 60,
     "metadata": {},
     "output_type": "execute_result"
    }
   ],
   "source": [
    "pat_dia_med_merged_df.med_route_name.unique()"
   ]
  },
  {
   "cell_type": "markdown",
   "id": "3209bf7a-9c1d-452c-a26c-2241f050b210",
   "metadata": {},
   "source": [
    "#### Cleaning string columns 'med_generic_name', 'med_route_name' & 'med_status'"
   ]
  },
  {
   "cell_type": "code",
   "execution_count": 61,
   "id": "5ffbe7a7-3b33-4cd7-a13b-6fa315af4362",
   "metadata": {},
   "outputs": [
    {
     "data": {
      "text/html": [
       "<div>\n",
       "<style scoped>\n",
       "    .dataframe tbody tr th:only-of-type {\n",
       "        vertical-align: middle;\n",
       "    }\n",
       "\n",
       "    .dataframe tbody tr th {\n",
       "        vertical-align: top;\n",
       "    }\n",
       "\n",
       "    .dataframe thead th {\n",
       "        text-align: right;\n",
       "    }\n",
       "</style>\n",
       "<table border=\"1\" class=\"dataframe\">\n",
       "  <thead>\n",
       "    <tr style=\"text-align: right;\">\n",
       "      <th></th>\n",
       "      <th>patient_id</th>\n",
       "      <th>gender</th>\n",
       "      <th>race</th>\n",
       "      <th>date_of_birth</th>\n",
       "      <th>date_of_death</th>\n",
       "      <th>age_years</th>\n",
       "      <th>diagnosis_date</th>\n",
       "      <th>diagnosis_code</th>\n",
       "      <th>diagnosis_name</th>\n",
       "      <th>diagnosis_system</th>\n",
       "      <th>med_start_date</th>\n",
       "      <th>med_end_date</th>\n",
       "      <th>med_generic_name</th>\n",
       "      <th>med_route_name</th>\n",
       "      <th>med_status</th>\n",
       "      <th>med_dose</th>\n",
       "      <th>med_end_date_filled</th>\n",
       "      <th>med_duration_days</th>\n",
       "    </tr>\n",
       "  </thead>\n",
       "  <tbody>\n",
       "    <tr>\n",
       "      <th>0</th>\n",
       "      <td>SP000035853</td>\n",
       "      <td>Female</td>\n",
       "      <td>Other Race</td>\n",
       "      <td>1950-07-06</td>\n",
       "      <td>NaT</td>\n",
       "      <td>75</td>\n",
       "      <td>2015-02-01 12:00:00</td>\n",
       "      <td>C50.911</td>\n",
       "      <td>Malignant Neoplasm Of Unspecified Site Of Righ...</td>\n",
       "      <td>ICD10CM</td>\n",
       "      <td>2014-12-01 05:47:00</td>\n",
       "      <td>NaT</td>\n",
       "      <td>docusate</td>\n",
       "      <td>NaN</td>\n",
       "      <td>administered</td>\n",
       "      <td>200.0</td>\n",
       "      <td>2025-10-24 00:00:00</td>\n",
       "      <td>3979</td>\n",
       "    </tr>\n",
       "    <tr>\n",
       "      <th>1</th>\n",
       "      <td>SP000035853</td>\n",
       "      <td>Female</td>\n",
       "      <td>Other Race</td>\n",
       "      <td>1950-07-06</td>\n",
       "      <td>NaT</td>\n",
       "      <td>75</td>\n",
       "      <td>2015-02-01 12:00:00</td>\n",
       "      <td>C50.911</td>\n",
       "      <td>Malignant Neoplasm Of Unspecified Site Of Righ...</td>\n",
       "      <td>ICD10CM</td>\n",
       "      <td>2018-11-23 00:00:00</td>\n",
       "      <td>2018-11-25 00:00:00</td>\n",
       "      <td>glucagon</td>\n",
       "      <td>Intramuscular</td>\n",
       "      <td>ordered</td>\n",
       "      <td>1.0</td>\n",
       "      <td>2018-11-25 00:00:00</td>\n",
       "      <td>2</td>\n",
       "    </tr>\n",
       "    <tr>\n",
       "      <th>2</th>\n",
       "      <td>SP000035853</td>\n",
       "      <td>Female</td>\n",
       "      <td>Other Race</td>\n",
       "      <td>1950-07-06</td>\n",
       "      <td>NaT</td>\n",
       "      <td>75</td>\n",
       "      <td>2015-02-01 12:00:00</td>\n",
       "      <td>C50.911</td>\n",
       "      <td>Malignant Neoplasm Of Unspecified Site Of Righ...</td>\n",
       "      <td>ICD10CM</td>\n",
       "      <td>2018-11-29 00:00:00</td>\n",
       "      <td>NaT</td>\n",
       "      <td>atorvastatin</td>\n",
       "      <td>Oral</td>\n",
       "      <td>ordered</td>\n",
       "      <td>20.0</td>\n",
       "      <td>2025-10-24 00:00:00</td>\n",
       "      <td>2521</td>\n",
       "    </tr>\n",
       "    <tr>\n",
       "      <th>3</th>\n",
       "      <td>SP000035853</td>\n",
       "      <td>Female</td>\n",
       "      <td>Other Race</td>\n",
       "      <td>1950-07-06</td>\n",
       "      <td>NaT</td>\n",
       "      <td>75</td>\n",
       "      <td>2015-02-01 12:00:00</td>\n",
       "      <td>C50.911</td>\n",
       "      <td>Malignant Neoplasm Of Unspecified Site Of Righ...</td>\n",
       "      <td>ICD10CM</td>\n",
       "      <td>2018-11-22 00:00:00</td>\n",
       "      <td>2018-11-22 00:00:00</td>\n",
       "      <td>insulin, isophane</td>\n",
       "      <td>Subcutaneous</td>\n",
       "      <td>ordered</td>\n",
       "      <td>10.0</td>\n",
       "      <td>2018-11-22 00:00:00</td>\n",
       "      <td>0</td>\n",
       "    </tr>\n",
       "    <tr>\n",
       "      <th>4</th>\n",
       "      <td>SP000035853</td>\n",
       "      <td>Female</td>\n",
       "      <td>Other Race</td>\n",
       "      <td>1950-07-06</td>\n",
       "      <td>NaT</td>\n",
       "      <td>75</td>\n",
       "      <td>2015-02-01 12:00:00</td>\n",
       "      <td>C50.911</td>\n",
       "      <td>Malignant Neoplasm Of Unspecified Site Of Righ...</td>\n",
       "      <td>ICD10CM</td>\n",
       "      <td>2013-10-02 12:00:00</td>\n",
       "      <td>2013-10-02 12:00:00</td>\n",
       "      <td>prednisolone</td>\n",
       "      <td>Ocular</td>\n",
       "      <td>ordered</td>\n",
       "      <td>1.0</td>\n",
       "      <td>2013-10-02 12:00:00</td>\n",
       "      <td>0</td>\n",
       "    </tr>\n",
       "  </tbody>\n",
       "</table>\n",
       "</div>"
      ],
      "text/plain": [
       "    patient_id  gender        race date_of_birth date_of_death  age_years  \\\n",
       "0  SP000035853  Female  Other Race    1950-07-06           NaT         75   \n",
       "1  SP000035853  Female  Other Race    1950-07-06           NaT         75   \n",
       "2  SP000035853  Female  Other Race    1950-07-06           NaT         75   \n",
       "3  SP000035853  Female  Other Race    1950-07-06           NaT         75   \n",
       "4  SP000035853  Female  Other Race    1950-07-06           NaT         75   \n",
       "\n",
       "        diagnosis_date diagnosis_code  \\\n",
       "0  2015-02-01 12:00:00        C50.911   \n",
       "1  2015-02-01 12:00:00        C50.911   \n",
       "2  2015-02-01 12:00:00        C50.911   \n",
       "3  2015-02-01 12:00:00        C50.911   \n",
       "4  2015-02-01 12:00:00        C50.911   \n",
       "\n",
       "                                      diagnosis_name diagnosis_system  \\\n",
       "0  Malignant Neoplasm Of Unspecified Site Of Righ...          ICD10CM   \n",
       "1  Malignant Neoplasm Of Unspecified Site Of Righ...          ICD10CM   \n",
       "2  Malignant Neoplasm Of Unspecified Site Of Righ...          ICD10CM   \n",
       "3  Malignant Neoplasm Of Unspecified Site Of Righ...          ICD10CM   \n",
       "4  Malignant Neoplasm Of Unspecified Site Of Righ...          ICD10CM   \n",
       "\n",
       "       med_start_date        med_end_date   med_generic_name med_route_name  \\\n",
       "0 2014-12-01 05:47:00                 NaT           docusate            NaN   \n",
       "1 2018-11-23 00:00:00 2018-11-25 00:00:00           glucagon  Intramuscular   \n",
       "2 2018-11-29 00:00:00                 NaT       atorvastatin           Oral   \n",
       "3 2018-11-22 00:00:00 2018-11-22 00:00:00  insulin, isophane   Subcutaneous   \n",
       "4 2013-10-02 12:00:00 2013-10-02 12:00:00       prednisolone         Ocular   \n",
       "\n",
       "     med_status  med_dose med_end_date_filled  med_duration_days  \n",
       "0  administered     200.0 2025-10-24 00:00:00               3979  \n",
       "1       ordered       1.0 2018-11-25 00:00:00                  2  \n",
       "2       ordered      20.0 2025-10-24 00:00:00               2521  \n",
       "3       ordered      10.0 2018-11-22 00:00:00                  0  \n",
       "4       ordered       1.0 2013-10-02 12:00:00                  0  "
      ]
     },
     "execution_count": 61,
     "metadata": {},
     "output_type": "execute_result"
    }
   ],
   "source": [
    "# making 'med_generic_name' column lower case to keep naming consistent\n",
    "pat_dia_med_merged_df[\"med_generic_name\"] = pat_dia_med_merged_df[\"med_generic_name\"].str.lower()\n",
    "\n",
    "# remove string 'route' from column 'med_route_name' to avoid duplicates -> 'Oral' & 'Oral route' are the same\n",
    "pat_dia_med_merged_df[\"med_route_name\"] = (\n",
    "    pat_dia_med_merged_df[\"med_route_name\"]\n",
    "    .str.replace(\"route\", \"\", case=False, regex=True)  # remove \"route\"\n",
    "    .str.strip()                                       # trim spaces\n",
    ")\n",
    "\n",
    "# making 'med_status' column lower case to keep naming consistent\n",
    "pat_dia_med_merged_df[\"med_status\"] = pat_dia_med_merged_df[\"med_status\"].str.lower()\n",
    "\n",
    "pat_dia_med_merged_df.head()"
   ]
  },
  {
   "cell_type": "code",
   "execution_count": 62,
   "id": "383caa82-f709-4303-945f-9fd992a769f5",
   "metadata": {
    "scrolled": true
   },
   "outputs": [
    {
     "data": {
      "text/plain": [
       "array(['docusate', 'glucagon', 'atorvastatin', 'insulin, isophane',\n",
       "       'prednisolone', 'ondansetron', 'metformin', 'brimonidine',\n",
       "       'flurbiprofen', 'succinylcholine', 'ciprofloxacin', 'simvastatin',\n",
       "       'pioglitazone', 'tropicamide', 'regular insulin, human',\n",
       "       'dexamethasone', 'acetaminophen', 'moxifloxacin',\n",
       "       'cyclophosphamide', 'latanoprost', 'cyclopentolate',\n",
       "       'phenylephrine', 'lorazepam', 'glipizide', 'dorzolamide',\n",
       "       'fluoxetine', 'docetaxel', 'loperamide', 'alendronate', 'fentanyl',\n",
       "       'sennosides, usp', 'promethazine', 'glucose', 'brinzolamide',\n",
       "       'anastrozole', 'midazolam', 'propofol', 'cefazolin', 'benzonatate',\n",
       "       'cephalexin', 'tamsulosin', 'albuterol', 'ephedrine', 'ibuprofen',\n",
       "       'magnesium sulfate', 'ropivacaine', 'clarithromycin', 'glyburide',\n",
       "       'etodolac', 'morphine', 'linagliptin', 'prochlorperazine',\n",
       "       'hydromorphone', 'lidocaine', 'amoxicillin', 'allopurinol',\n",
       "       'hydroxyzine', 'ranitidine', 'methocarbamol', 'acetazolamide',\n",
       "       'polyethylene glycol 3350', 'fluconazole',\n",
       "       'ado-trastuzumab emtansine', nan, 'acetaminophen|oxycodone',\n",
       "       'acetaminophen|hydrocodone', 'letrozole', 'exemestane',\n",
       "       'hydrocodone', 'denosumab', 'alprazolam', 'fulvestrant',\n",
       "       'amlodipine', 'azithromycin', 'everolimus', 'lisinopril',\n",
       "       'gabapentin', 'oxycodone', 'prednisone', 'furosemide',\n",
       "       'diphenhydramine', 'enalaprilat', 'losartan', 'bumetanide',\n",
       "       'valsartan', 'pentoxifylline', 'trazodone',\n",
       "       'atropine|diphenoxylate', 'methylprednisolone', 'methylphenidate',\n",
       "       'fenofibrate', 'levothyroxine', 'terazosin', 'pantoprazole',\n",
       "       'sucralfate', 'ipratropium', 'cefepime', 'enoxaparin',\n",
       "       'guaifenesin', 'fosaprepitant', 'linezolid', 'vitamin e',\n",
       "       'atezolizumab', 'trastuzumab', 'pegfilgrastim',\n",
       "       'tetrahydrocannabinol', 'pertuzumab', 'rivaroxaban',\n",
       "       'erythromycin', 'cholecalciferol', 'famciclovir', 'levofloxacin',\n",
       "       'triamcinolone|nystatin', 'potassium chloride',\n",
       "       'lactobacillus rhamnosus gg', 'paclitaxel', 'doxorubicin',\n",
       "       'nitroglycerin', 'vecuronium', 'aprepitant', 'tramadol',\n",
       "       'chlorhexidine', 'esmolol', 'filgrastim', 'rocuronium',\n",
       "       'bacitracin', 'acyclovir', 'estrogens, conjugated (usp)',\n",
       "       'naproxen', 'epinephrine', 'lactulose', 'nystatin', 'omeprazole',\n",
       "       'palonosetron', 'dolasetron', 'capecitabine',\n",
       "       'chlorpheniramine|hydrocodone', 'mirtazapine', 'diclofenac',\n",
       "       'ergocalciferol', 'aspirin', 'palbociclib', 'tiotropium',\n",
       "       'cyclobenzaprine', 'citalopram', 'propranolol',\n",
       "       'albuterol|ipratropium', 'quetiapine', 'methimazole',\n",
       "       'valacyclovir', 'duloxetine', 'vitamin b 12', 'celecoxib',\n",
       "       'methylene blue', 'leuprolide', 'magnesium citrate', 'clindamycin',\n",
       "       'baclofen', 'cetirizine', 'mometasone', 'olanzapine',\n",
       "       'amitriptyline', 'oseltamivir', 'hydralazine', 'hydrocortisone',\n",
       "       'labetalol', 'risperidone', 'metronidazole', 'warfarin',\n",
       "       'beta carotene', 'water', 'diltiazem', 'sodium chloride',\n",
       "       'adenosine', 'bupivacaine', 'famotidine', 'zinc sulfate',\n",
       "       'codeine', 'spironolactone', 'meloxicam', 'loratadine',\n",
       "       'carvedilol', 'ketamine', 'calcium carbonate',\n",
       "       'hydrochlorothiazide', 'venlafaxine', 'metoprolol', 'sertraline',\n",
       "       'bupropion', 'vancomycin', 'apixaban', 'vitamin k 1', 'meperidine',\n",
       "       'terconazole', 'triamcinolone', 'oxybutynin', 'clotrimazole',\n",
       "       'tamoxifen', 'rifampin', 'misoprostol', 'minocycline', 'thrombin',\n",
       "       'lisinopril|hydrochlorothiazide', 'dicyclomine', 'clonidine',\n",
       "       'fluphenazine', 'carboplatin', 'hydroxychloroquine', 'ketorolac',\n",
       "       'cyclosporine', 'tretinoin', 'scopolamine', 'zolpidem',\n",
       "       'zoledronic acid', 'olaparib', 'triamterene',\n",
       "       'triamterene|hydrochlorothiazide', 'ferrous sulfate',\n",
       "       'chlorthalidone', 'captopril', 'nitrofurantoin',\n",
       "       'insulin, aspart, human', 'nepafenac', 'insulin glargine',\n",
       "       'collagenase', 'terbinafine', 'desonide', 'ketoconazole',\n",
       "       'petrolatum', 'tolterodine', 'sodium polystyrene sulfonate',\n",
       "       'hypromellose', 'pregabalin', 'potassium', 'lanolin',\n",
       "       'silver sulfadiazine', 'ascorbic acid', 'ferrous fumarate',\n",
       "       'eribulin', 'vinorelbine', 'losartan|hydrochlorothiazide',\n",
       "       'fluticasone', 'diazepam', 'hydrochlorothiazide|valsartan',\n",
       "       'povidone-iodine', 'doxycycline', 'thiamine', 'meclizine',\n",
       "       'tapentadol', 'nortriptyline', 'bisacodyl', 'rosuvastatin',\n",
       "       'calcium acetate', 'primaquine', 'sevelamer', 'acetylcysteine',\n",
       "       'ferrous gluconate', 'salmon calcitonin', 'atovaquone',\n",
       "       'darbepoetin alfa', 'mycophenolate mofetil',\n",
       "       'purified protein derivative of tuberculin', 'sildenafil',\n",
       "       'naloxone', 'isosorbide', 'memantine', 'mupirocin', 'ambrisentan',\n",
       "       'palonosetron|netupitant', 'simethicone', 'magnesium hydroxide',\n",
       "       'magnesium oxide', 'isosorbide dinitrate', 'risedronate',\n",
       "       'escitalopram', 'clobetasol', 'buspirone', 'lovastatin',\n",
       "       'irbesartan', 'levetiracetam', 'pravastatin', 'beclomethasone',\n",
       "       'lapatinib', 'clonazepam', 'ixabepilone', 'phenazopyridine',\n",
       "       'valproate', 'fosphenytoin', 'temazepam', 'metoclopramide',\n",
       "       'sodium bicarbonate', 'trimethobenzamide', 'ertapenem',\n",
       "       'benzocaine', 'magnesium gluconate', 'pyridoxine', 'esomeprazole',\n",
       "       'doxepin', 'ramelteon', 'eszopiclone', 'zaleplon', 'solifenacin',\n",
       "       'bethanechol', 'tetracycline', 'melatonin', 'montelukast',\n",
       "       'gemfibrozil', 'trospium', 'moexipril', 'estradiol', 'haloperidol',\n",
       "       'chlorothiazide', 'lansoprazole', 'metolazone', 'pamidronate',\n",
       "       'glimepiride', 'torsemide', 'nabumetone', 'verapamil',\n",
       "       'eletriptan', 'tizanidine', 'folic acid', 'paroxetine',\n",
       "       'rizatriptan', 'perphenazine', 'benztropine', 'sumatriptan',\n",
       "       'budesonide', 'oxcarbazepine', 'ceftriaxone', 'calcium gluconate',\n",
       "       'dabigatran etexilate', 'amiodarone', 'alvimopan', 'etomidate',\n",
       "       'tobramycin', 'calcium chloride', 'ciprofloxacin|dexamethasone',\n",
       "       'bimatoprost', 'lamotrigine', 'carboxymethylcellulose', 'atropine',\n",
       "       'tetracaine', 'hyoscyamine', 'mefloquine', 'olopatadine',\n",
       "       'guanfacine', 'adalimumab', 'clopidogrel', 'capsaicin',\n",
       "       'gemcitabine', 'insulin lispro', 'enalapril', 'lithium carbonate',\n",
       "       'iopamidol', 'naltrexone', 'niacin', 'atenolol', 'ofloxacin',\n",
       "       'halobetasol', 'dextromethorphan', 'salmeterol', 'aclidinium',\n",
       "       'empagliflozin', 'levalbuterol', 'nicotine', 'sorbitol',\n",
       "       'codeine|promethazine', 'calcitriol', 'cefpodoxime', 'nisoldipine',\n",
       "       'vasopressin (usp)', 'aliskiren', 'papaverine', 'nebivolol',\n",
       "       'acetaminophen|codeine', 'ethinyl estradiol|norethindrone',\n",
       "       'ezetimibe', 'loratadine|pseudoephedrine', 'ibandronate',\n",
       "       'raloxifene', 'doxorubicin liposome', 'granisetron', 'modafinil'],\n",
       "      dtype=object)"
      ]
     },
     "execution_count": 62,
     "metadata": {},
     "output_type": "execute_result"
    }
   ],
   "source": [
    "pat_dia_med_merged_df.med_generic_name.unique()"
   ]
  },
  {
   "cell_type": "code",
   "execution_count": 63,
   "id": "f3b59123-7e05-4f31-a525-9106f821b668",
   "metadata": {},
   "outputs": [
    {
     "data": {
      "text/plain": [
       "array([nan, 'Intramuscular', 'Oral', 'Subcutaneous', 'Ocular',\n",
       "       'Injection', 'Intravenous', 'Inhalation Dosage Form', 'Sublingual',\n",
       "       'Unknown', 'Transdermal', 'Topical', 'Nebuliser Suspension',\n",
       "       'Vaginal', 'Liquid', 'Nasal', 'Catheter', 'Rectal', 'Intradermal',\n",
       "       'Epidural', 'Transmucosal', 'Submucosal', 'Intraarticular',\n",
       "       'Nasogastric', 'Auricular', 'Percutaneous'], dtype=object)"
      ]
     },
     "execution_count": 63,
     "metadata": {},
     "output_type": "execute_result"
    }
   ],
   "source": [
    "pat_dia_med_merged_df.med_route_name.unique()"
   ]
  },
  {
   "cell_type": "code",
   "execution_count": 64,
   "id": "14c915a3-6c15-4a24-8756-161b69bfdaa1",
   "metadata": {},
   "outputs": [
    {
     "data": {
      "image/png": "[encoded data removed]",
      "text/plain": [
       "<Figure size 1200x600 with 1 Axes>"
      ]
     },
     "metadata": {},
     "output_type": "display_data"
    }
   ],
   "source": [
    "# Count medications (top 20)\n",
    "med_counts = pat_dia_med_merged_df[\"med_generic_name\"].value_counts().sort_values(ascending=False).head(20)\n",
    "total = med_counts.sum()\n",
    "med_perc = med_counts / total * 100\n",
    "\n",
    "# Plot\n",
    "plt.figure(figsize=(12, 6))\n",
    "ax = med_perc.plot(kind=\"bar\")\n",
    "\n",
    "plt.title(\"Top-20 Most Common Medications Prescribed\")\n",
    "plt.xlabel(\"Medication (generic name)\")\n",
    "plt.ylabel(\"Percentage of Prescriptions\")\n",
    "plt.xticks(rotation=45, ha=\"right\")\n",
    "\n",
    "# Add percentage labels\n",
    "for p in ax.patches:\n",
    "    value = p.get_height()\n",
    "    ax.annotate(\n",
    "        f\"{value:.2f}%\", \n",
    "        (p.get_x() + p.get_width() / 2., value),\n",
    "        ha=\"center\", va=\"bottom\", fontsize=8\n",
    "    )\n",
    "\n",
    "plt.tight_layout()\n",
    "plt.show()"
   ]
  },
  {
   "cell_type": "code",
   "execution_count": 65,
   "id": "8036006a-0842-4326-9f06-c75062cbad20",
   "metadata": {},
   "outputs": [
    {
     "data": {
      "image/png": "[encoded data removed]",
      "text/plain": [
       "<Figure size 1200x600 with 1 Axes>"
      ]
     },
     "metadata": {},
     "output_type": "display_data"
    }
   ],
   "source": [
    "# Understanding the medications route name\n",
    "\n",
    "# Count route name\n",
    "med_route_counts = pat_dia_med_merged_df[\"med_route_name\"].value_counts().sort_values(ascending=False)\n",
    "total_route = med_route_counts.sum()\n",
    "med_route_perc = med_route_counts / total * 100\n",
    "\n",
    "# Plot\n",
    "plt.figure(figsize=(12, 6))\n",
    "ax = med_route_perc.plot(kind=\"bar\")\n",
    "\n",
    "plt.title(\"Common Medications Routes\")\n",
    "plt.ylabel(\"Number of Times Medication Route Used\")\n",
    "plt.xticks(rotation=45, ha=\"right\")\n",
    "\n",
    "# Add percentage labels\n",
    "for p in ax.patches:\n",
    "    value = p.get_height()\n",
    "    ax.annotate(\n",
    "        f\"{value:.2f}%\",\n",
    "        (p.get_x() + p.get_width() / 2., value),\n",
    "        ha=\"center\", va=\"bottom\", fontsize=8\n",
    "    )\n",
    "\n",
    "plt.tight_layout()\n",
    "plt.show()"
   ]
  },
  {
   "cell_type": "code",
   "execution_count": 66,
   "id": "f2aa632c-10af-43fd-a69f-7e5c87a4f538",
   "metadata": {},
   "outputs": [
    {
     "data": {
      "image/png": "[encoded data removed]",
      "text/plain": [
       "<Figure size 1200x600 with 1 Axes>"
      ]
     },
     "metadata": {},
     "output_type": "display_data"
    }
   ],
   "source": [
    "fig, axes = plt.subplots(figsize=(12, 6))\n",
    "\n",
    "# Get counts and convert to percentages\n",
    "counts = pat_dia_med_merged_df[\"med_status\"].value_counts(dropna=False)\n",
    "total = counts.sum()\n",
    "perc = counts / total * 100 \n",
    "\n",
    "# Plot\n",
    "perc.plot(kind=\"bar\", ax=axes)\n",
    "\n",
    "axes.set_title(\"Distribution of Medication Status\")\n",
    "axes.set_xlabel(\"Medication Status\")\n",
    "axes.set_ylabel(\"Percentage\")\n",
    "axes.tick_params(axis=\"x\", rotation=45)\n",
    "\n",
    "# Add % labels\n",
    "for p in axes.patches:\n",
    "    value = p.get_height()\n",
    "    axes.annotate(\n",
    "        f\"{value:.2f}%\",\n",
    "        (p.get_x() + p.get_width() / 2., value),\n",
    "        ha=\"center\", va=\"bottom\", fontsize=9\n",
    "    )\n",
    "\n",
    "plt.tight_layout()\n",
    "plt.show()"
   ]
  },
  {
   "cell_type": "code",
   "execution_count": 67,
   "id": "09b0e4f6-67dc-4f73-9070-df66e3075b28",
   "metadata": {},
   "outputs": [
    {
     "data": {
      "image/png": "[encoded data removed]",
      "text/plain": [
       "<Figure size 800x500 with 1 Axes>"
      ]
     },
     "metadata": {},
     "output_type": "display_data"
    }
   ],
   "source": [
    "# Distribution of 'med_duration_days'\n",
    "\n",
    "plt.figure(figsize=(8, 5))\n",
    "plt.hist(pat_dia_med_merged_df[\"med_duration_days\"].dropna(), bins=30, edgecolor=\"black\")\n",
    "\n",
    "plt.title(\"Distribution of Medication Duration (days)\")\n",
    "plt.xlabel(\"Medication duration (days)\")\n",
    "plt.ylabel(\"Number of Prescriptions\")\n",
    "\n",
    "plt.tight_layout()\n",
    "plt.show()"
   ]
  },
  {
   "cell_type": "code",
   "execution_count": 68,
   "id": "ab562267-04d0-418a-85fa-e1c126411a35",
   "metadata": {},
   "outputs": [
    {
     "data": {
      "image/png": "[encoded data removed]",
      "text/plain": [
       "<Figure size 800x500 with 1 Axes>"
      ]
     },
     "metadata": {},
     "output_type": "display_data"
    }
   ],
   "source": [
    "# Distribution of 'med_duration_days' more granular to see < 10,000 days\n",
    "\n",
    "plt.figure(figsize=(8, 5))\n",
    "plt.hist(pat_dia_med_merged_df[\"med_duration_days\"].dropna(), bins=30, edgecolor=\"black\")\n",
    "\n",
    "plt.title(\"Distribution of Medication Duration (days)\")\n",
    "plt.xlabel(\"Medication duration (days)\")\n",
    "plt.ylabel(\"Number of Prescriptions\")\n",
    "plt.xlim(0, 10000)\n",
    "\n",
    "plt.tight_layout()\n",
    "plt.show()"
   ]
  },
  {
   "cell_type": "code",
   "execution_count": 69,
   "id": "a518940b-2862-4c62-9403-e00289ed6378",
   "metadata": {},
   "outputs": [
    {
     "data": {
      "image/png": "[encoded data removed]",
      "text/plain": [
       "<Figure size 1400x700 with 1 Axes>"
      ]
     },
     "metadata": {},
     "output_type": "display_data"
    }
   ],
   "source": [
    "# Compute average duration for top-20 medications prescribed\n",
    "top_meds = med_counts.index\n",
    "\n",
    "avg_duration_top = (\n",
    "    pat_dia_med_merged_df[pat_dia_med_merged_df[\"med_generic_name\"].isin(top_meds)]\n",
    "      .groupby(\"med_generic_name\")[\"med_duration_days\"]\n",
    "      .mean()\n",
    "      .reindex(top_meds)\n",
    ")\n",
    "\n",
    "# Plot\n",
    "plt.figure(figsize=(14, 7))\n",
    "ax = avg_duration_top.plot(kind=\"bar\")\n",
    "\n",
    "plt.title(\"Average Medication Duration for Top 20 Most Prescribed Medications\")\n",
    "plt.xlabel(\"Medication (generic name)\")\n",
    "plt.ylabel(\"Average Duration (days)\")\n",
    "\n",
    "plt.xticks(rotation=45, ha=\"right\")\n",
    "\n",
    "# Add labels\n",
    "for p in ax.patches:\n",
    "    ax.annotate(\n",
    "        f\"{p.get_height():.1f}\",\n",
    "        (p.get_x() + p.get_width() / 2., p.get_height()),\n",
    "        ha=\"center\", va=\"bottom\", fontsize=8\n",
    "    )\n",
    "\n",
    "plt.tight_layout()\n",
    "plt.show()"
   ]
  },
  {
   "cell_type": "code",
   "execution_count": 70,
   "id": "4d0291a5-a8fb-47a5-9c06-50f6c37dc7c4",
   "metadata": {},
   "outputs": [
    {
     "data": {
      "image/png": "[encoded data removed]",
      "text/plain": [
       "<Figure size 1000x600 with 1 Axes>"
      ]
     },
     "metadata": {},
     "output_type": "display_data"
    }
   ],
   "source": [
    "# Count prescriptions by race and med\n",
    "race_med_counts = (\n",
    "    pat_dia_med_merged_df.groupby([\"race\", \"med_generic_name\"])\n",
    "      .size()\n",
    "      .reset_index(name=\"count\")\n",
    ")\n",
    "\n",
    "# Compute total prescriptions per race\n",
    "race_totals = race_med_counts.groupby(\"race\")[\"count\"].transform(\"sum\")\n",
    "race_med_counts[\"percent\"] = race_med_counts[\"count\"] / race_totals * 100\n",
    "\n",
    "# For each race, pick the med with highest count\n",
    "top_meds_by_race = (\n",
    "    race_med_counts.loc[\n",
    "        race_med_counts.groupby(\"race\")[\"count\"].idxmax()\n",
    "    ]\n",
    "    .sort_values(\"percent\", ascending=False)\n",
    ")\n",
    "\n",
    "# Plot\n",
    "plt.figure(figsize=(10, 6))\n",
    "ax = plt.bar(top_meds_by_race[\"race\"], top_meds_by_race[\"percent\"])\n",
    "\n",
    "plt.title(\"Most Common Medication per Race\")\n",
    "plt.xlabel(\"Race\")\n",
    "plt.ylabel(\"Percentage of Prescriptions\")\n",
    "\n",
    "# Add labels with med name + percentage\n",
    "for i, (race, med, percent) in enumerate(\n",
    "    zip(top_meds_by_race[\"race\"], top_meds_by_race[\"med_generic_name\"], top_meds_by_race[\"percent\"])\n",
    "):\n",
    "    plt.text(i, percent, f\"{med}\\n({percent:.2f}%)\", \n",
    "             ha=\"center\", va=\"bottom\", fontsize=8)\n",
    "\n",
    "plt.tight_layout()\n",
    "plt.show()"
   ]
  },
  {
   "cell_type": "code",
   "execution_count": 71,
   "id": "d88e92b7-d8a9-4cec-8a03-ccd4b3a7cdbf",
   "metadata": {},
   "outputs": [
    {
     "data": {
      "image/png": "[encoded data removed]",
      "text/plain": [
       "<Figure size 1000x600 with 1 Axes>"
      ]
     },
     "metadata": {},
     "output_type": "display_data"
    }
   ],
   "source": [
    "# Define bins from 45 to 95 with step 10\n",
    "bins = list(range(45, 96, 10))  # [45,55,65,75,85,95]\n",
    "labels = [f\"{bins[i]}-{bins[i+1]}\" for i in range(len(bins)-1)]\n",
    "\n",
    "# Create age bucket column\n",
    "pat_dia_med_merged_df[\"age_bucket\"] = pd.cut(\n",
    "    pat_dia_med_merged_df[\"age_years\"], bins=bins, labels=labels, right=False\n",
    ")\n",
    "\n",
    "# Count prescriptions by age bucket and medication\n",
    "age_med_counts = (\n",
    "    pat_dia_med_merged_df.groupby([\"age_bucket\", \"med_generic_name\"])\n",
    "      .size()\n",
    "      .reset_index(name=\"count\")\n",
    ")\n",
    "\n",
    "# Compute % within each bucket\n",
    "age_totals = age_med_counts.groupby(\"age_bucket\")[\"count\"].transform(\"sum\")\n",
    "age_med_counts[\"percent\"] = age_med_counts[\"count\"] / age_totals * 100\n",
    "\n",
    "# For each age bucket, get the med with the highest percent\n",
    "top_meds_by_age = (\n",
    "    age_med_counts.loc[\n",
    "        age_med_counts.groupby(\"age_bucket\")[\"percent\"].idxmax()\n",
    "    ]\n",
    "    .sort_values(\"age_bucket\")\n",
    ")\n",
    "\n",
    "# Plot \n",
    "plt.figure(figsize=(10, 6))\n",
    "ax = plt.bar(top_meds_by_age[\"age_bucket\"].astype(str), top_meds_by_age[\"percent\"])\n",
    "\n",
    "plt.title(\"Most Common Medication per Age Group\")\n",
    "plt.xlabel(\"Age Group (years)\")\n",
    "plt.ylabel(\"Percentage of Prescriptions\")\n",
    "plt.ylim(0, 25)\n",
    "\n",
    "# Add labels with med name + percentage\n",
    "for i, (bucket, med, percent) in enumerate(\n",
    "    zip(top_meds_by_age[\"age_bucket\"], top_meds_by_age[\"med_generic_name\"], top_meds_by_age[\"percent\"])\n",
    "):\n",
    "    plt.text(i, percent, f\"{med}\\n({percent:.2f}%)\", ha=\"center\", va=\"bottom\", fontsize=8)\n",
    "\n",
    "plt.tight_layout()\n",
    "plt.show()"
   ]
  },
  {
   "cell_type": "code",
   "execution_count": 72,
   "id": "c6dc2155-91d5-43b9-85a3-c1e0a9a5c8bd",
   "metadata": {},
   "outputs": [
    {
     "ename": "KeyError",
     "evalue": "'med_generic_name'",
     "output_type": "error",
     "traceback": [
      "\u001b[1;31m---------------------------------------------------------------------------\u001b[0m",
      "\u001b[1;31mKeyError\u001b[0m                                  Traceback (most recent call last)",
      "\u001b[1;32m~\\anaconda3\\lib\\site-packages\\pandas\\core\\indexes\\base.py\u001b[0m in \u001b[0;36mget_loc\u001b[1;34m(self, key, method, tolerance)\u001b[0m\n\u001b[0;32m   3628\u001b[0m             \u001b[1;32mtry\u001b[0m\u001b[1;33m:\u001b[0m\u001b[1;33m\u001b[0m\u001b[1;33m\u001b[0m\u001b[0m\n\u001b[1;32m-> 3629\u001b[1;33m                 \u001b[1;32mreturn\u001b[0m \u001b[0mself\u001b[0m\u001b[1;33m.\u001b[0m\u001b[0m_engine\u001b[0m\u001b[1;33m.\u001b[0m\u001b[0mget_loc\u001b[0m\u001b[1;33m(\u001b[0m\u001b[0mcasted_key\u001b[0m\u001b[1;33m)\u001b[0m\u001b[1;33m\u001b[0m\u001b[1;33m\u001b[0m\u001b[0m\n\u001b[0m\u001b[0;32m   3630\u001b[0m             \u001b[1;32mexcept\u001b[0m \u001b[0mKeyError\u001b[0m \u001b[1;32mas\u001b[0m \u001b[0merr\u001b[0m\u001b[1;33m:\u001b[0m\u001b[1;33m\u001b[0m\u001b[1;33m\u001b[0m\u001b[0m\n",
      "\u001b[1;32m~\\anaconda3\\lib\\site-packages\\pandas\\_libs\\index.pyx\u001b[0m in \u001b[0;36mpandas._libs.index.IndexEngine.get_loc\u001b[1;34m()\u001b[0m\n",
      "\u001b[1;32m~\\anaconda3\\lib\\site-packages\\pandas\\_libs\\index.pyx\u001b[0m in \u001b[0;36mpandas._libs.index.IndexEngine.get_loc\u001b[1;34m()\u001b[0m\n",
      "\u001b[1;32mpandas\\_libs\\hashtable_class_helper.pxi\u001b[0m in \u001b[0;36mpandas._libs.hashtable.PyObjectHashTable.get_item\u001b[1;34m()\u001b[0m\n",
      "\u001b[1;32mpandas\\_libs\\hashtable_class_helper.pxi\u001b[0m in \u001b[0;36mpandas._libs.hashtable.PyObjectHashTable.get_item\u001b[1;34m()\u001b[0m\n",
      "\u001b[1;31mKeyError\u001b[0m: 'med_generic_name'",
      "\nThe above exception was the direct cause of the following exception:\n",
      "\u001b[1;31mKeyError\u001b[0m                                  Traceback (most recent call last)",
      "\u001b[1;32m~\\AppData\\Local\\Temp\\ipykernel_11944\\1420706174.py\u001b[0m in \u001b[0;36m<module>\u001b[1;34m\u001b[0m\n\u001b[0;32m     23\u001b[0m \u001b[1;31m# Plot percentages\u001b[0m\u001b[1;33m\u001b[0m\u001b[1;33m\u001b[0m\u001b[0m\n\u001b[0;32m     24\u001b[0m \u001b[0mplt\u001b[0m\u001b[1;33m.\u001b[0m\u001b[0mfigure\u001b[0m\u001b[1;33m(\u001b[0m\u001b[0mfigsize\u001b[0m\u001b[1;33m=\u001b[0m\u001b[1;33m(\u001b[0m\u001b[1;36m14\u001b[0m\u001b[1;33m,\u001b[0m \u001b[1;36m7\u001b[0m\u001b[1;33m)\u001b[0m\u001b[1;33m)\u001b[0m\u001b[1;33m\u001b[0m\u001b[1;33m\u001b[0m\u001b[0m\n\u001b[1;32m---> 25\u001b[1;33m \u001b[0max\u001b[0m \u001b[1;33m=\u001b[0m \u001b[0mplt\u001b[0m\u001b[1;33m.\u001b[0m\u001b[0mbar\u001b[0m\u001b[1;33m(\u001b[0m\u001b[0mtop_routes_by_med\u001b[0m\u001b[1;33m[\u001b[0m\u001b[1;34m\"med_generic_name\"\u001b[0m\u001b[1;33m]\u001b[0m\u001b[1;33m,\u001b[0m \u001b[0mtop_routes_by_med\u001b[0m\u001b[1;33m[\u001b[0m\u001b[1;34m\"percent\"\u001b[0m\u001b[1;33m]\u001b[0m\u001b[1;33m)\u001b[0m\u001b[1;33m\u001b[0m\u001b[1;33m\u001b[0m\u001b[0m\n\u001b[0m\u001b[0;32m     26\u001b[0m \u001b[1;33m\u001b[0m\u001b[0m\n\u001b[0;32m     27\u001b[0m \u001b[0mplt\u001b[0m\u001b[1;33m.\u001b[0m\u001b[0mtitle\u001b[0m\u001b[1;33m(\u001b[0m\u001b[1;34m\"Most Common Route of Administration for Top 20 Medications\"\u001b[0m\u001b[1;33m)\u001b[0m\u001b[1;33m\u001b[0m\u001b[1;33m\u001b[0m\u001b[0m\n",
      "\u001b[1;32m~\\anaconda3\\lib\\site-packages\\pandas\\core\\frame.py\u001b[0m in \u001b[0;36m__getitem__\u001b[1;34m(self, key)\u001b[0m\n\u001b[0;32m   3503\u001b[0m             \u001b[1;32mif\u001b[0m \u001b[0mself\u001b[0m\u001b[1;33m.\u001b[0m\u001b[0mcolumns\u001b[0m\u001b[1;33m.\u001b[0m\u001b[0mnlevels\u001b[0m \u001b[1;33m>\u001b[0m \u001b[1;36m1\u001b[0m\u001b[1;33m:\u001b[0m\u001b[1;33m\u001b[0m\u001b[1;33m\u001b[0m\u001b[0m\n\u001b[0;32m   3504\u001b[0m                 \u001b[1;32mreturn\u001b[0m \u001b[0mself\u001b[0m\u001b[1;33m.\u001b[0m\u001b[0m_getitem_multilevel\u001b[0m\u001b[1;33m(\u001b[0m\u001b[0mkey\u001b[0m\u001b[1;33m)\u001b[0m\u001b[1;33m\u001b[0m\u001b[1;33m\u001b[0m\u001b[0m\n\u001b[1;32m-> 3505\u001b[1;33m             \u001b[0mindexer\u001b[0m \u001b[1;33m=\u001b[0m \u001b[0mself\u001b[0m\u001b[1;33m.\u001b[0m\u001b[0mcolumns\u001b[0m\u001b[1;33m.\u001b[0m\u001b[0mget_loc\u001b[0m\u001b[1;33m(\u001b[0m\u001b[0mkey\u001b[0m\u001b[1;33m)\u001b[0m\u001b[1;33m\u001b[0m\u001b[1;33m\u001b[0m\u001b[0m\n\u001b[0m\u001b[0;32m   3506\u001b[0m             \u001b[1;32mif\u001b[0m \u001b[0mis_integer\u001b[0m\u001b[1;33m(\u001b[0m\u001b[0mindexer\u001b[0m\u001b[1;33m)\u001b[0m\u001b[1;33m:\u001b[0m\u001b[1;33m\u001b[0m\u001b[1;33m\u001b[0m\u001b[0m\n\u001b[0;32m   3507\u001b[0m                 \u001b[0mindexer\u001b[0m \u001b[1;33m=\u001b[0m \u001b[1;33m[\u001b[0m\u001b[0mindexer\u001b[0m\u001b[1;33m]\u001b[0m\u001b[1;33m\u001b[0m\u001b[1;33m\u001b[0m\u001b[0m\n",
      "\u001b[1;32m~\\anaconda3\\lib\\site-packages\\pandas\\core\\indexes\\base.py\u001b[0m in \u001b[0;36mget_loc\u001b[1;34m(self, key, method, tolerance)\u001b[0m\n\u001b[0;32m   3629\u001b[0m                 \u001b[1;32mreturn\u001b[0m \u001b[0mself\u001b[0m\u001b[1;33m.\u001b[0m\u001b[0m_engine\u001b[0m\u001b[1;33m.\u001b[0m\u001b[0mget_loc\u001b[0m\u001b[1;33m(\u001b[0m\u001b[0mcasted_key\u001b[0m\u001b[1;33m)\u001b[0m\u001b[1;33m\u001b[0m\u001b[1;33m\u001b[0m\u001b[0m\n\u001b[0;32m   3630\u001b[0m             \u001b[1;32mexcept\u001b[0m \u001b[0mKeyError\u001b[0m \u001b[1;32mas\u001b[0m \u001b[0merr\u001b[0m\u001b[1;33m:\u001b[0m\u001b[1;33m\u001b[0m\u001b[1;33m\u001b[0m\u001b[0m\n\u001b[1;32m-> 3631\u001b[1;33m                 \u001b[1;32mraise\u001b[0m \u001b[0mKeyError\u001b[0m\u001b[1;33m(\u001b[0m\u001b[0mkey\u001b[0m\u001b[1;33m)\u001b[0m \u001b[1;32mfrom\u001b[0m \u001b[0merr\u001b[0m\u001b[1;33m\u001b[0m\u001b[1;33m\u001b[0m\u001b[0m\n\u001b[0m\u001b[0;32m   3632\u001b[0m             \u001b[1;32mexcept\u001b[0m \u001b[0mTypeError\u001b[0m\u001b[1;33m:\u001b[0m\u001b[1;33m\u001b[0m\u001b[1;33m\u001b[0m\u001b[0m\n\u001b[0;32m   3633\u001b[0m                 \u001b[1;31m# If we have a listlike key, _check_indexing_error will raise\u001b[0m\u001b[1;33m\u001b[0m\u001b[1;33m\u001b[0m\u001b[0m\n",
      "\u001b[1;31mKeyError\u001b[0m: 'med_generic_name'"
     ]
    },
    {
     "data": {
      "text/plain": [
       "<Figure size 1400x700 with 0 Axes>"
      ]
     },
     "metadata": {},
     "output_type": "display_data"
    }
   ],
   "source": [
    "# Count prescriptions by med + route (restricted to top 20 meds)\n",
    "med_route_counts = (\n",
    "    pat_dia_med_merged_df[pat_dia_med_merged_df[\"med_generic_name\"].isin(top_meds)]\n",
    "      .groupby([\"med_generic_name\", \"med_route_name\"])\n",
    "      .size()\n",
    "      .reset_index(name=\"count\")\n",
    ")\n",
    "\n",
    "# Compute % within each med\n",
    "med_totals = med_route_counts.groupby(\"med_generic_name\")[\"count\"].transform(\"sum\")\n",
    "med_route_counts[\"percent\"] = med_route_counts[\"count\"] / med_totals * 100\n",
    "\n",
    "# For each med, find the most common route\n",
    "top_routes_by_med = (\n",
    "    med_route_counts.loc[\n",
    "        med_route_counts.groupby(\"med_generic_name\")[\"percent\"].idxmax()\n",
    "    ]\n",
    "    .set_index(\"med_generic_name\")\n",
    "    .loc[top_meds]  # keep same order as top-20\n",
    "    .reset_index()\n",
    ")\n",
    "\n",
    "# Plot percentages\n",
    "plt.figure(figsize=(14, 7))\n",
    "ax = plt.bar(top_routes_by_med[\"med_generic_name\"], top_routes_by_med[\"percent\"])\n",
    "\n",
    "plt.title(\"Most Common Route of Administration for Top 20 Medications\")\n",
    "plt.xlabel(\"Medication (generic name)\")\n",
    "plt.ylabel(\"Percentage of Prescriptions\")\n",
    "plt.ylim(0, 110)\n",
    "plt.xticks(rotation=45, ha=\"right\")\n",
    "\n",
    "# Add labels with route + percentage\n",
    "for i, (med, route, percent) in enumerate(\n",
    "    zip(top_routes_by_med[\"med_generic_name\"], \n",
    "        top_routes_by_med[\"med_route_name\"], \n",
    "        top_routes_by_med[\"percent\"])\n",
    "):\n",
    "    plt.text(i, percent, f\"{route}\\n({percent:.2f}%)\", ha=\"center\", va=\"bottom\", fontsize=8)\n",
    "\n",
    "plt.tight_layout()\n",
    "plt.show()"
   ]
  },
  {
   "cell_type": "code",
   "execution_count": 73,
   "id": "05708fe3",
   "metadata": {},
   "outputs": [
    {
     "data": {
      "text/html": [
       "<div>\n",
       "<style scoped>\n",
       "    .dataframe tbody tr th:only-of-type {\n",
       "        vertical-align: middle;\n",
       "    }\n",
       "\n",
       "    .dataframe tbody tr th {\n",
       "        vertical-align: top;\n",
       "    }\n",
       "\n",
       "    .dataframe thead th {\n",
       "        text-align: right;\n",
       "    }\n",
       "</style>\n",
       "<table border=\"1\" class=\"dataframe\">\n",
       "  <thead>\n",
       "    <tr style=\"text-align: right;\">\n",
       "      <th></th>\n",
       "      <th>index</th>\n",
       "      <th>med_route_name</th>\n",
       "      <th>count</th>\n",
       "      <th>percent</th>\n",
       "    </tr>\n",
       "  </thead>\n",
       "  <tbody>\n",
       "    <tr>\n",
       "      <th>0</th>\n",
       "      <td>trastuzumab</td>\n",
       "      <td>Intravenous</td>\n",
       "      <td>48406</td>\n",
       "      <td>98.294278</td>\n",
       "    </tr>\n",
       "    <tr>\n",
       "      <th>1</th>\n",
       "      <td>dexamethasone</td>\n",
       "      <td>Intravenous</td>\n",
       "      <td>33440</td>\n",
       "      <td>75.439348</td>\n",
       "    </tr>\n",
       "    <tr>\n",
       "      <th>2</th>\n",
       "      <td>hydromorphone</td>\n",
       "      <td>Intravenous</td>\n",
       "      <td>26049</td>\n",
       "      <td>93.258628</td>\n",
       "    </tr>\n",
       "    <tr>\n",
       "      <th>3</th>\n",
       "      <td>paclitaxel</td>\n",
       "      <td>Intravenous</td>\n",
       "      <td>41481</td>\n",
       "      <td>100.000000</td>\n",
       "    </tr>\n",
       "    <tr>\n",
       "      <th>4</th>\n",
       "      <td>leuprolide</td>\n",
       "      <td>Intramuscular</td>\n",
       "      <td>62040</td>\n",
       "      <td>51.235465</td>\n",
       "    </tr>\n",
       "  </tbody>\n",
       "</table>\n",
       "</div>"
      ],
      "text/plain": [
       "           index med_route_name  count     percent\n",
       "0    trastuzumab    Intravenous  48406   98.294278\n",
       "1  dexamethasone    Intravenous  33440   75.439348\n",
       "2  hydromorphone    Intravenous  26049   93.258628\n",
       "3     paclitaxel    Intravenous  41481  100.000000\n",
       "4     leuprolide  Intramuscular  62040   51.235465"
      ]
     },
     "execution_count": 73,
     "metadata": {},
     "output_type": "execute_result"
    }
   ],
   "source": [
    "top_routes_by_med.head()"
   ]
  },
  {
   "cell_type": "code",
   "execution_count": null,
   "id": "ecc25795",
   "metadata": {},
   "outputs": [],
   "source": [
    "# Count prescriptions by med + route (restricted to top 20 meds)\n",
    "med_route_counts = (\n",
    "    pat_dia_med_merged_df[pat_dia_med_merged_df[\"med_generic_name\"].isin(top_meds)]\n",
    "      .groupby([\"med_generic_name\", \"med_route_name\"], as_index=False)\n",
    "      .size()\n",
    "      .rename(columns={\"size\": \"count\"})\n",
    ")\n",
    "\n",
    "# Compute % within each med\n",
    "med_route_counts[\"percent\"] = (\n",
    "    med_route_counts[\"count\"] /\n",
    "    med_route_counts.groupby(\"med_generic_name\")[\"count\"].transform(\"sum\") * 100\n",
    ")\n",
    "\n",
    "# For each med, keep the most common route (highest percent)\n",
    "# (Sort descending by percent, then drop duplicates to keep the first per med)\n",
    "top_routes_by_med = (\n",
    "    med_route_counts\n",
    "      .sort_values([\"med_generic_name\", \"percent\"], ascending=[True, False])\n",
    "      .drop_duplicates(subset=[\"med_generic_name\"], keep=\"first\")\n",
    ")\n",
    "\n",
    "# Keep only meds that actually appear, and preserve the original top_meds order\n",
    "present_meds = [m for m in top_meds if m in set(top_routes_by_med[\"med_generic_name\"])]\n",
    "top_routes_by_med[\"med_generic_name\"] = pd.Categorical(\n",
    "    top_routes_by_med[\"med_generic_name\"],\n",
    "    categories=present_meds,\n",
    "    ordered=True\n",
    ")\n",
    "top_routes_by_med = top_routes_by_med.sort_values(\"med_generic_name\").reset_index(drop=True)\n",
    "\n",
    "# Plot percentages\n",
    "plt.figure(figsize=(14, 7))\n",
    "plt.bar(top_routes_by_med[\"med_generic_name\"].astype(str), top_routes_by_med[\"percent\"])\n",
    "\n",
    "plt.title(\"Most Common Route of Administration for Top 20 Medications\")\n",
    "plt.xlabel(\"Medication (generic name)\")\n",
    "plt.ylabel(\"Percentage of Prescriptions\")\n",
    "plt.ylim(0, 110)\n",
    "plt.xticks(rotation=45, ha=\"right\")\n",
    "\n",
    "# Add labels with route + percentage\n",
    "for i, (med, route, percent) in enumerate(\n",
    "    zip(top_routes_by_med[\"med_generic_name\"].astype(str),\n",
    "        top_routes_by_med[\"med_route_name\"],\n",
    "        top_routes_by_med[\"percent\"])\n",
    "):\n",
    "    plt.text(i, percent, f\"{route}\\n({percent:.2f}%)\", ha=\"center\", va=\"bottom\", fontsize=8)\n",
    "\n",
    "plt.tight_layout()\n",
    "plt.show()"
   ]
  },
  {
   "cell_type": "code",
   "execution_count": null,
   "id": "8e86c798-233f-4ec0-ad6f-d8b91de589d8",
   "metadata": {},
   "outputs": [],
   "source": [
    "# Count prescriptions by med + status (restricted to top 20 meds)\n",
    "med_status_counts = (\n",
    "    pat_dia_med_merged_df[pat_dia_med_merged_df[\"med_generic_name\"].isin(top_meds)]\n",
    "      .groupby([\"med_generic_name\", \"med_status\"])\n",
    "      .size()\n",
    "      .unstack(fill_value=0)\n",
    "      .reindex(top_meds)   # preserve top-20 order\n",
    ")\n",
    "\n",
    "# Convert to percentages within each medication\n",
    "med_status_perc = med_status_counts.div(med_status_counts.sum(axis=1), axis=0) * 100\n",
    "\n",
    "# Plot side-by-side bars\n",
    "x = np.arange(len(med_status_perc))\n",
    "width = 0.4\n",
    "\n",
    "fig, ax = plt.subplots(figsize=(14, 7))\n",
    "\n",
    "bars1 = ax.bar(x - width/2, med_status_perc.get(\"administered\", 0), \n",
    "               width, label=\"Administered\")\n",
    "bars2 = ax.bar(x + width/2, med_status_perc.get(\"ordered\", 0), \n",
    "               width, label=\"Ordered\")\n",
    "\n",
    "# Titles and labels\n",
    "ax.set_title(\"Medication Status (Administered vs Ordered) for Top 20 Medications\")\n",
    "ax.set_xlabel(\"Medication (generic name)\")\n",
    "ax.set_ylabel(\"Percentage of Prescriptions\")\n",
    "ax.set_xticks(x)\n",
    "ax.set_xticklabels(med_status_perc.index, rotation=45, ha=\"right\")\n",
    "ax.set_ylim(0, 100)\n",
    "ax.legend()\n",
    "\n",
    "# Add % labels above bars\n",
    "for bars in [bars1, bars2]:\n",
    "    for bar in bars:\n",
    "        height = bar.get_height()\n",
    "        ax.annotate(f\"{height:.2f}%\",\n",
    "                    xy=(bar.get_x() + bar.get_width()/2, height),\n",
    "                    xytext=(0, 3),\n",
    "                    textcoords=\"offset points\",\n",
    "                    ha=\"center\", va=\"bottom\", fontsize=8)\n",
    "\n",
    "plt.tight_layout()\n",
    "plt.show()"
   ]
  },
  {
   "cell_type": "code",
   "execution_count": null,
   "id": "36c6aaeb-0e29-4178-9ce3-3de997e4dd00",
   "metadata": {},
   "outputs": [],
   "source": [
    "# Compute average med_dose for top-20 meds\n",
    "avg_dose_top20 = (\n",
    "    pat_dia_med_merged_df[pat_dia_med_merged_df[\"med_generic_name\"].isin(top_meds)]\n",
    "      .groupby(\"med_generic_name\")[\"med_dose\"]\n",
    "      .mean()\n",
    "      .reindex(top_meds)   # keep same order as top-20 counts\n",
    ")\n",
    "\n",
    "# Plot\n",
    "plt.figure(figsize=(14, 7))\n",
    "ax = avg_dose_top20.plot(kind=\"bar\")\n",
    "\n",
    "plt.title(\"Average Medication Dose for Top 20 Most Prescribed Medications\")\n",
    "plt.xlabel(\"Medication (generic name)\")\n",
    "plt.ylabel(\"Average Dose\")\n",
    "plt.xticks(rotation=45, ha=\"right\")\n",
    "\n",
    "# Add labels above bars\n",
    "for p in ax.patches:\n",
    "    ax.annotate(f\"{p.get_height():.2f}\", \n",
    "                (p.get_x() + p.get_width() / 2., p.get_height()),\n",
    "                ha=\"center\", va=\"bottom\", fontsize=8)\n",
    "\n",
    "plt.tight_layout()\n",
    "plt.show()"
   ]
  },
  {
   "cell_type": "code",
   "execution_count": null,
   "id": "b03af0b6-cd00-4691-97d9-92c3ca6bffb2",
   "metadata": {},
   "outputs": [],
   "source": [
    "# Compute average med_dose per race\n",
    "avg_dose_by_race = (\n",
    "    pat_dia_med_merged_df.groupby(\"race\")[\"med_dose\"]\n",
    "      .mean()\n",
    "      .sort_values(ascending=False)\n",
    ")\n",
    "\n",
    "# Plot\n",
    "plt.figure(figsize=(10, 6))\n",
    "ax = avg_dose_by_race.plot(kind=\"bar\")\n",
    "\n",
    "plt.title(\"Average Medication Dose by Race\")\n",
    "plt.xlabel(\"Race\")\n",
    "plt.ylabel(\"Average Dose\")\n",
    "plt.xticks(rotation=45, ha=\"right\")\n",
    "\n",
    "# Add labels above bars\n",
    "for p in ax.patches:\n",
    "    ax.annotate(f\"{p.get_height():.2f}\", \n",
    "                (p.get_x() + p.get_width() / 2., p.get_height()),\n",
    "                ha=\"center\", va=\"bottom\", fontsize=8)\n",
    "\n",
    "plt.tight_layout()\n",
    "plt.show()"
   ]
  },
  {
   "cell_type": "code",
   "execution_count": null,
   "id": "15ce6a88-e323-4643-8c99-1015012b010a",
   "metadata": {},
   "outputs": [],
   "source": [
    "# Compute average med_dose per age bucket\n",
    "avg_dose_by_age = (\n",
    "    pat_dia_med_merged_df.groupby(\"age_bucket\")[\"med_dose\"]\n",
    "      .mean()\n",
    "      .reindex(labels)   # keep bucket order\n",
    ")\n",
    "\n",
    "# Plot\n",
    "plt.figure(figsize=(10, 6))\n",
    "ax = avg_dose_by_age.plot(kind=\"bar\")\n",
    "\n",
    "plt.title(\"Average Medication Dose by Age Group\")\n",
    "plt.xlabel(\"Age Group (years)\")\n",
    "plt.ylabel(\"Average Dose\")\n",
    "plt.xticks(rotation=45, ha=\"right\")\n",
    "\n",
    "# Add labels above bars\n",
    "for p in ax.patches:\n",
    "    if not pd.isna(p.get_height()):\n",
    "        ax.annotate(f\"{p.get_height():.2f}\",\n",
    "                    (p.get_x() + p.get_width() / 2., p.get_height()),\n",
    "                    ha=\"center\", va=\"bottom\", fontsize=8)\n",
    "\n",
    "plt.tight_layout()\n",
    "plt.show()"
   ]
  },
  {
   "cell_type": "code",
   "execution_count": null,
   "id": "f6bef633-4e38-49b5-ba27-27a11ecfad11",
   "metadata": {},
   "outputs": [],
   "source": [
    "# Compute average med_duration_days per race\n",
    "avg_dose_by_race = (\n",
    "    pat_dia_med_merged_df.groupby(\"race\")[\"med_duration_days\"]\n",
    "      .mean()\n",
    "      .sort_values(ascending=False)\n",
    ")\n",
    "\n",
    "# Plot\n",
    "plt.figure(figsize=(10, 6))\n",
    "ax = avg_dose_by_race.plot(kind=\"bar\")\n",
    "\n",
    "plt.title(\"Average Medication Duration by Race\")\n",
    "plt.xlabel(\"Race\")\n",
    "plt.ylabel(\"Average Duration\")\n",
    "plt.xticks(rotation=45, ha=\"right\")\n",
    "\n",
    "# Add labels above bars\n",
    "for p in ax.patches:\n",
    "    ax.annotate(f\"{p.get_height():.2f}\", \n",
    "                (p.get_x() + p.get_width() / 2., p.get_height()),\n",
    "                ha=\"center\", va=\"bottom\", fontsize=8)\n",
    "\n",
    "plt.tight_layout()\n",
    "plt.show()"
   ]
  },
  {
   "cell_type": "code",
   "execution_count": null,
   "id": "88f7463f-22b4-461e-b6e9-7c5a292d792f",
   "metadata": {},
   "outputs": [],
   "source": [
    "# Compute average med_dose per bucket\n",
    "avg_dose_by_age = (\n",
    "    pat_dia_med_merged_df.groupby(\"age_bucket\")[\"med_duration_days\"]\n",
    "      .mean()\n",
    "      .reindex(labels)   # keep bucket order\n",
    ")\n",
    "\n",
    "# Plot\n",
    "plt.figure(figsize=(10, 6))\n",
    "ax = avg_dose_by_age.plot(kind=\"bar\")\n",
    "\n",
    "plt.title(\"Average Medication Duration by Age Group\")\n",
    "plt.xlabel(\"Age Group (years)\")\n",
    "plt.ylabel(\"Average Duration\")\n",
    "plt.xticks(rotation=45, ha=\"right\")\n",
    "\n",
    "# Add labels above bars\n",
    "for p in ax.patches:\n",
    "    if not pd.isna(p.get_height()):\n",
    "        ax.annotate(f\"{p.get_height():.2f}\",\n",
    "                    (p.get_x() + p.get_width() / 2., p.get_height()),\n",
    "                    ha=\"center\", va=\"bottom\", fontsize=8)\n",
    "\n",
    "plt.tight_layout()\n",
    "plt.show()"
   ]
  },
  {
   "cell_type": "markdown",
   "id": "e02e83d6-d0a8-446f-862f-094a7087a695",
   "metadata": {},
   "source": [
    "# Biomarker"
   ]
  },
  {
   "cell_type": "code",
   "execution_count": null,
   "id": "be047337-041e-4bac-ac63-e8c192307571",
   "metadata": {},
   "outputs": [],
   "source": [
    "df4 = pd.read_excel(\"ConcertAI Data Science Interview Dataset.xlsx\", sheet_name=\"Biomarker\")\n",
    "df4.head()"
   ]
  },
  {
   "cell_type": "code",
   "execution_count": null,
   "id": "b375e1b6",
   "metadata": {},
   "outputs": [],
   "source": [
    "df4.isnull().sum()"
   ]
  },
  {
   "cell_type": "code",
   "execution_count": null,
   "id": "4b5017ac-8e57-4db0-b3e4-4dbc93675974",
   "metadata": {},
   "outputs": [],
   "source": [
    "df4.shape"
   ]
  },
  {
   "cell_type": "code",
   "execution_count": null,
   "id": "453bd963-fc64-4746-974c-8e99c6e8b918",
   "metadata": {},
   "outputs": [],
   "source": [
    "df4.patient_id.nunique()"
   ]
  },
  {
   "cell_type": "code",
   "execution_count": null,
   "id": "911cf777-8fa9-4f4c-9d04-88916c9ee02f",
   "metadata": {},
   "outputs": [],
   "source": [
    "df4.dtypes"
   ]
  },
  {
   "cell_type": "code",
   "execution_count": null,
   "id": "813b730a-b73b-41a5-9456-7a39f1e9ad38",
   "metadata": {},
   "outputs": [],
   "source": [
    "df4.test_result_code.unique()"
   ]
  },
  {
   "cell_type": "markdown",
   "id": "9e89832d-7d8c-4048-94d3-2c12778da963",
   "metadata": {},
   "source": [
    "Identifying triple-negative breast cancer (TNBC) from biomarker test results means we need to find patients who are:\n",
    "1. ER- (Estrogen receptor)\n",
    "2. PR- (Progesterone receptor)\n",
    "3. HER2-\n",
    "\n",
    "Source: 'https://www.cancer.org/cancer/types/breast-cancer/understanding-a-breast-cancer-diagnosis/breast-cancer-her2-status.html'\n",
    "\n",
    "Based on the values in our dataset, negative values are characterized by:\n",
    "1. ER_NEG\n",
    "2. PR_NEG (or PGR_NEG depending on naming convention)\n",
    "3. HER2_NEG (and sometimes HER2_IHC_0 or HER2_IHC_1PLUS are also considered negative in practice)\n",
    "\n",
    "Additionally, patients have multiple results ('test_result_code') for same test ('biomarker_name_name') on different dates ('report_date'). For calculating patients with TNBC, I will take the result of the most recent test since here, the question asks: 'What % of patients in the study cohort ***have*** triple negative breast cancer?'."
   ]
  },
  {
   "cell_type": "code",
   "execution_count": null,
   "id": "ab6bafec-63c8-4db5-9d04-c011d8e4b915",
   "metadata": {},
   "outputs": [],
   "source": [
    "# sort so most recent comes first\n",
    "df4_sorted = df4.sort_values([\"patient_id\", \"biomarker_name_name\", \"report_date\"], ascending=[True, True, False])\n",
    "\n",
    "# keep most recent result per patient & biomarker\n",
    "df4_latest = df4_sorted.drop_duplicates(subset=[\"patient_id\", \"biomarker_name_name\"], keep=\"first\")\n",
    "df4_latest.head()"
   ]
  },
  {
   "cell_type": "code",
   "execution_count": null,
   "id": "63b601f2-d69c-441d-8aee-acfd5cea6770",
   "metadata": {},
   "outputs": [],
   "source": [
    "df4_latest.shape"
   ]
  },
  {
   "cell_type": "code",
   "execution_count": null,
   "id": "864243f2-7365-43ff-b0d8-d8623a56528f",
   "metadata": {},
   "outputs": [],
   "source": [
    "# storing different flags for biomarker codes in a list to ensure consistent values for ER-, PR- and HER2- respectively\n",
    "er_negative_codes = [\"ER_NEG\"]\n",
    "pr_negative_codes = [\"PR_NEG\", \"PGR_NEG\"]\n",
    "her2_negative_codes = [\"HER2_NEG\", \"HER2_IHC_0\", \"HER2_IHC_1PLUS\"]"
   ]
  },
  {
   "cell_type": "code",
   "execution_count": null,
   "id": "00fe4df5-116d-4612-8d2b-c2a8d898f706",
   "metadata": {},
   "outputs": [],
   "source": [
    "# ER negative\n",
    "er_neg = df4_latest[df4_latest[\"test_result_code\"].isin(er_negative_codes)][[\"patient_id\"]].assign(ER_neg=True)\n",
    "\n",
    "# PR negative (some datasets use PR_NEG, some PGR_NEG)\n",
    "pr_neg = df4_latest[df4_latest[\"test_result_code\"].isin(pr_negative_codes)][[\"patient_id\"]].assign(PR_neg=True)\n",
    "\n",
    "# HER2 negative\n",
    "her2_neg = df4_latest[df4_latest[\"test_result_code\"].isin(her2_negative_codes)][[\"patient_id\"]].assign(HER2_neg=True)\n",
    "\n",
    "# Merge all flags\n",
    "tnbc_flags = (\n",
    "    er_neg.merge(pr_neg, on=\"patient_id\", how=\"inner\")\n",
    "          .merge(her2_neg, on=\"patient_id\", how=\"inner\")\n",
    ")\n",
    "\n",
    "# Unique TNBC patients\n",
    "tnbc_patients = tnbc_flags[\"patient_id\"].unique()\n",
    "print(\"Number of TNBC patients:\", len(tnbc_patients))"
   ]
  },
  {
   "cell_type": "code",
   "execution_count": null,
   "id": "33d06b31-df2b-4aa9-9420-3294008711c5",
   "metadata": {},
   "outputs": [],
   "source": [
    "# % of patients in the study cohort have triple negative breast cancer - answer to the last question\n",
    "print(f\"Percent of TNBC patients in the study cohort: {(len(tnbc_patients)/df1.patient_id.nunique())*100:.2f}\")"
   ]
  },
  {
   "cell_type": "code",
   "execution_count": null,
   "id": "5804142d-db27-4015-b67e-7a6d78eb4e6d",
   "metadata": {},
   "outputs": [],
   "source": []
  }
 ],
 "metadata": {
  "kernelspec": {
   "display_name": "Python 3 (ipykernel)",
   "language": "python",
   "name": "python3"
  },
  "language_info": {
   "codemirror_mode": {
    "name": "ipython",
    "version": 3
   },
   "file_extension": ".py",
   "mimetype": "text/x-python",
   "name": "python",
   "nbconvert_exporter": "python",
   "pygments_lexer": "ipython3",
   "version": "3.9.13"
  }
 },
 "nbformat": 4,
 "nbformat_minor": 5
}
